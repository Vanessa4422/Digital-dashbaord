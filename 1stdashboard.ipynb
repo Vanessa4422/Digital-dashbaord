{
  "nbformat": 4,
  "nbformat_minor": 0,
  "metadata": {
    "colab": {
      "name": "1stdashboard.ipynb",
      "provenance": [],
      "authorship_tag": "ABX9TyP4eHFOJ317HN8gNk4XIrih",
      "include_colab_link": true
    },
    "kernelspec": {
      "name": "python3",
      "display_name": "Python 3"
    }
  },
  "cells": [
    {
      "cell_type": "markdown",
      "metadata": {
        "id": "view-in-github",
        "colab_type": "text"
      },
      "source": [
        "<a href=\"https://colab.research.google.com/github/Vanessa4422/Digital-dashbaord/blob/main/1stdashboard.ipynb\" target=\"_parent\"><img src=\"https://colab.research.google.com/assets/colab-badge.svg\" alt=\"Open In Colab\"/></a>"
      ]
    },
    {
      "cell_type": "code",
      "metadata": {
        "id": "7Z1nIxTisjPX",
        "outputId": "bd77ce07-46eb-4c81-cae1-4ea5cf1b4069",
        "colab": {
          "base_uri": "https://localhost:8080/"
        }
      },
      "source": [
        "pip install dash"
      ],
      "execution_count": 7,
      "outputs": [
        {
          "output_type": "stream",
          "text": [
            "Collecting dash\n",
            "\u001b[?25l  Downloading https://files.pythonhosted.org/packages/69/91/ae029886dda55b93b60ac04377bcb2ab9209dd73244e3b5e513124cc6778/dash-1.17.0.tar.gz (75kB)\n",
            "\r\u001b[K     |████▍                           | 10kB 12.4MB/s eta 0:00:01\r\u001b[K     |████████▊                       | 20kB 17.4MB/s eta 0:00:01\r\u001b[K     |█████████████                   | 30kB 9.6MB/s eta 0:00:01\r\u001b[K     |█████████████████▍              | 40kB 8.3MB/s eta 0:00:01\r\u001b[K     |█████████████████████▊          | 51kB 4.3MB/s eta 0:00:01\r\u001b[K     |██████████████████████████▏     | 61kB 4.5MB/s eta 0:00:01\r\u001b[K     |██████████████████████████████▌ | 71kB 4.8MB/s eta 0:00:01\r\u001b[K     |████████████████████████████████| 81kB 3.5MB/s \n",
            "\u001b[?25hRequirement already satisfied: Flask>=1.0.2 in /usr/local/lib/python3.6/dist-packages (from dash) (1.1.2)\n",
            "Collecting flask-compress\n",
            "  Downloading https://files.pythonhosted.org/packages/eb/33/7bcfc1d240bf4cf701cc742716a3af95b9df5b26d605559ea029b6ffa04f/Flask-Compress-1.8.0.tar.gz\n",
            "Requirement already satisfied: plotly in /usr/local/lib/python3.6/dist-packages (from dash) (4.4.1)\n",
            "Collecting dash_renderer==1.8.3\n",
            "\u001b[?25l  Downloading https://files.pythonhosted.org/packages/72/fe/59a322edb128ad15205002c7b81e3f5e580f6791c4a100183289e05dbfcb/dash_renderer-1.8.3.tar.gz (1.0MB)\n",
            "\u001b[K     |████████████████████████████████| 1.0MB 8.8MB/s \n",
            "\u001b[?25hCollecting dash-core-components==1.13.0\n",
            "\u001b[?25l  Downloading https://files.pythonhosted.org/packages/52/48/3dd8c7bf93cff3a9dd9d360bc25c4ec0cb191acdce13375c3ff85f98e992/dash_core_components-1.13.0.tar.gz (3.5MB)\n",
            "\u001b[K     |████████████████████████████████| 3.5MB 29.9MB/s \n",
            "\u001b[?25hCollecting dash-html-components==1.1.1\n",
            "\u001b[?25l  Downloading https://files.pythonhosted.org/packages/02/ba/bb9427c62feb25bfbaf243894eeeb4e7c67a92b426ed0575a167100e436e/dash_html_components-1.1.1.tar.gz (188kB)\n",
            "\u001b[K     |████████████████████████████████| 194kB 38.5MB/s \n",
            "\u001b[?25hCollecting dash-table==4.11.0\n",
            "\u001b[?25l  Downloading https://files.pythonhosted.org/packages/bb/46/cc839f897cabea3f584cf59ce9d86a5ea3828e54eefe2537ba8b640a9707/dash_table-4.11.0.tar.gz (1.8MB)\n",
            "\u001b[K     |████████████████████████████████| 1.8MB 42.9MB/s \n",
            "\u001b[?25hRequirement already satisfied: future in /usr/local/lib/python3.6/dist-packages (from dash) (0.16.0)\n",
            "Requirement already satisfied: Jinja2>=2.10.1 in /usr/local/lib/python3.6/dist-packages (from Flask>=1.0.2->dash) (2.11.2)\n",
            "Requirement already satisfied: click>=5.1 in /usr/local/lib/python3.6/dist-packages (from Flask>=1.0.2->dash) (7.1.2)\n",
            "Requirement already satisfied: itsdangerous>=0.24 in /usr/local/lib/python3.6/dist-packages (from Flask>=1.0.2->dash) (1.1.0)\n",
            "Requirement already satisfied: Werkzeug>=0.15 in /usr/local/lib/python3.6/dist-packages (from Flask>=1.0.2->dash) (1.0.1)\n",
            "Collecting brotli\n",
            "\u001b[?25l  Downloading https://files.pythonhosted.org/packages/b4/d3/7c98f05b7b9103e2f3a112ba42f269c798155b3e5404fb80bb8f823aaebe/Brotli-1.0.9-cp36-cp36m-manylinux1_x86_64.whl (357kB)\n",
            "\u001b[K     |████████████████████████████████| 358kB 44.0MB/s \n",
            "\u001b[?25hRequirement already satisfied: six in /usr/local/lib/python3.6/dist-packages (from plotly->dash) (1.15.0)\n",
            "Requirement already satisfied: retrying>=1.3.3 in /usr/local/lib/python3.6/dist-packages (from plotly->dash) (1.3.3)\n",
            "Requirement already satisfied: MarkupSafe>=0.23 in /usr/local/lib/python3.6/dist-packages (from Jinja2>=2.10.1->Flask>=1.0.2->dash) (1.1.1)\n",
            "Building wheels for collected packages: dash, flask-compress, dash-renderer, dash-core-components, dash-html-components, dash-table\n",
            "  Building wheel for dash (setup.py) ... \u001b[?25l\u001b[?25hdone\n",
            "  Created wheel for dash: filename=dash-1.17.0-cp36-none-any.whl size=83728 sha256=573c3c1224cf349bf20117a8450d41ac2945e981e5e3a1e2b18080a9933e6519\n",
            "  Stored in directory: /root/.cache/pip/wheels/e0/32/13/8a569b638a79cf80a4a721f56040d91198adec28e3bc8123fc\n",
            "  Building wheel for flask-compress (setup.py) ... \u001b[?25l\u001b[?25hdone\n",
            "  Created wheel for flask-compress: filename=Flask_Compress-1.8.0-cp36-none-any.whl size=7215 sha256=6bc7c8a7326e36587c3fba02f377e5f2d3b658a190f366bb2f8b457aa5e97d69\n",
            "  Stored in directory: /root/.cache/pip/wheels/f9/aa/e9/c4b763ea17eb0662124f67924cbfb9ee0efa83e28f6131baec\n",
            "  Building wheel for dash-renderer (setup.py) ... \u001b[?25l\u001b[?25hdone\n",
            "  Created wheel for dash-renderer: filename=dash_renderer-1.8.3-cp36-none-any.whl size=1013944 sha256=9306c8a03ee179795ccecd1c0fcf58490e3989eb55a87aaf127a6c5727a260be\n",
            "  Stored in directory: /root/.cache/pip/wheels/cf/2b/5f/0928a6d1b7ebf280f21a2e925f36d662e6ba83e00b82c6b6bf\n",
            "  Building wheel for dash-core-components (setup.py) ... \u001b[?25l\u001b[?25hdone\n",
            "  Created wheel for dash-core-components: filename=dash_core_components-1.13.0-cp36-none-any.whl size=3513142 sha256=9b136b3a6d463da8260d080e168678987aed766065fbd58f6214e517705759fa\n",
            "  Stored in directory: /root/.cache/pip/wheels/44/d9/90/177214625a5b5f6440b24ea807550e07fbf439a495eee4dd36\n",
            "  Building wheel for dash-html-components (setup.py) ... \u001b[?25l\u001b[?25hdone\n",
            "  Created wheel for dash-html-components: filename=dash_html_components-1.1.1-cp36-none-any.whl size=427894 sha256=8ad7228bdf40d412d238a0fd0d5e03c9dfb5373af3a2ebbc1227aee274a82736\n",
            "  Stored in directory: /root/.cache/pip/wheels/8d/01/46/78e4de185a8a4a2da8ba31da16c52170f036d4cebeeb6e07a2\n",
            "  Building wheel for dash-table (setup.py) ... \u001b[?25l\u001b[?25hdone\n",
            "  Created wheel for dash-table: filename=dash_table-4.11.0-cp36-none-any.whl size=1839767 sha256=b40a2a89d1376e1c741012f383714123efcf2de82aea7e65ede4aea35b6440d8\n",
            "  Stored in directory: /root/.cache/pip/wheels/ca/37/90/bd45dcc5d6acbe6ac53f753a8f1732ecf5270017372e389cd8\n",
            "Successfully built dash flask-compress dash-renderer dash-core-components dash-html-components dash-table\n",
            "Installing collected packages: brotli, flask-compress, dash-renderer, dash-core-components, dash-html-components, dash-table, dash\n",
            "Successfully installed brotli-1.0.9 dash-1.17.0 dash-core-components-1.13.0 dash-html-components-1.1.1 dash-renderer-1.8.3 dash-table-4.11.0 flask-compress-1.8.0\n"
          ],
          "name": "stdout"
        }
      ]
    },
    {
      "cell_type": "code",
      "metadata": {
        "id": "CDqeDkiPt89u",
        "outputId": "0fd90354-8e47-424a-f6c7-b0e65170218a",
        "colab": {
          "base_uri": "https://localhost:8080/"
        }
      },
      "source": [
        "pip install pandas"
      ],
      "execution_count": 8,
      "outputs": [
        {
          "output_type": "stream",
          "text": [
            "Requirement already satisfied: pandas in /usr/local/lib/python3.6/dist-packages (1.1.4)\n",
            "Requirement already satisfied: numpy>=1.15.4 in /usr/local/lib/python3.6/dist-packages (from pandas) (1.18.5)\n",
            "Requirement already satisfied: python-dateutil>=2.7.3 in /usr/local/lib/python3.6/dist-packages (from pandas) (2.8.1)\n",
            "Requirement already satisfied: pytz>=2017.2 in /usr/local/lib/python3.6/dist-packages (from pandas) (2018.9)\n",
            "Requirement already satisfied: six>=1.5 in /usr/local/lib/python3.6/dist-packages (from python-dateutil>=2.7.3->pandas) (1.15.0)\n"
          ],
          "name": "stdout"
        }
      ]
    },
    {
      "cell_type": "code",
      "metadata": {
        "id": "TbGA9F_LuVgx",
        "outputId": "dc7a9abd-41e9-4aa2-c7bd-2b3764185596",
        "colab": {
          "base_uri": "https://localhost:8080/"
        }
      },
      "source": [
        "pip install plotly"
      ],
      "execution_count": 9,
      "outputs": [
        {
          "output_type": "stream",
          "text": [
            "Requirement already satisfied: plotly in /usr/local/lib/python3.6/dist-packages (4.4.1)\n",
            "Requirement already satisfied: six in /usr/local/lib/python3.6/dist-packages (from plotly) (1.15.0)\n",
            "Requirement already satisfied: retrying>=1.3.3 in /usr/local/lib/python3.6/dist-packages (from plotly) (1.3.3)\n"
          ],
          "name": "stdout"
        }
      ]
    },
    {
      "cell_type": "code",
      "metadata": {
        "id": "WvwqthnO0Tpn",
        "outputId": "43041ac5-9c3a-45cf-d4f7-f5f5ffcb6b73",
        "colab": {
          "base_uri": "https://localhost:8080/"
        }
      },
      "source": [
        "pip install jupyter-dash"
      ],
      "execution_count": 25,
      "outputs": [
        {
          "output_type": "stream",
          "text": [
            "Collecting jupyter-dash\n",
            "\u001b[?25l  Downloading https://files.pythonhosted.org/packages/b9/b9/5f9499a0154124a262c85e3a99033b9b3a20dc3d2707b587f52b32b60d76/jupyter_dash-0.3.1-py3-none-any.whl (49kB)\n",
            "\r\u001b[K     |██████▊                         | 10kB 14.3MB/s eta 0:00:01\r\u001b[K     |█████████████▍                  | 20kB 20.0MB/s eta 0:00:01\r\u001b[K     |████████████████████            | 30kB 10.9MB/s eta 0:00:01\r\u001b[K     |██████████████████████████▊     | 40kB 8.1MB/s eta 0:00:01\r\u001b[K     |████████████████████████████████| 51kB 2.6MB/s \n",
            "\u001b[?25hRequirement already satisfied: flask in /usr/local/lib/python3.6/dist-packages (from jupyter-dash) (1.1.2)\n",
            "Requirement already satisfied: ipython in /usr/local/lib/python3.6/dist-packages (from jupyter-dash) (5.5.0)\n",
            "Requirement already satisfied: retrying in /usr/local/lib/python3.6/dist-packages (from jupyter-dash) (1.3.3)\n",
            "Requirement already satisfied: ipykernel in /usr/local/lib/python3.6/dist-packages (from jupyter-dash) (4.10.1)\n",
            "Requirement already satisfied: dash in /usr/local/lib/python3.6/dist-packages (from jupyter-dash) (1.17.0)\n",
            "Requirement already satisfied: requests in /usr/local/lib/python3.6/dist-packages (from jupyter-dash) (2.23.0)\n",
            "Collecting ansi2html\n",
            "  Downloading https://files.pythonhosted.org/packages/b7/f5/0d658908d70cb902609fbb39b9ce891b99e060fa06e98071d369056e346f/ansi2html-1.5.2.tar.gz\n",
            "Requirement already satisfied: itsdangerous>=0.24 in /usr/local/lib/python3.6/dist-packages (from flask->jupyter-dash) (1.1.0)\n",
            "Requirement already satisfied: click>=5.1 in /usr/local/lib/python3.6/dist-packages (from flask->jupyter-dash) (7.1.2)\n",
            "Requirement already satisfied: Werkzeug>=0.15 in /usr/local/lib/python3.6/dist-packages (from flask->jupyter-dash) (1.0.1)\n",
            "Requirement already satisfied: Jinja2>=2.10.1 in /usr/local/lib/python3.6/dist-packages (from flask->jupyter-dash) (2.11.2)\n",
            "Requirement already satisfied: simplegeneric>0.8 in /usr/local/lib/python3.6/dist-packages (from ipython->jupyter-dash) (0.8.1)\n",
            "Requirement already satisfied: traitlets>=4.2 in /usr/local/lib/python3.6/dist-packages (from ipython->jupyter-dash) (4.3.3)\n",
            "Requirement already satisfied: prompt-toolkit<2.0.0,>=1.0.4 in /usr/local/lib/python3.6/dist-packages (from ipython->jupyter-dash) (1.0.18)\n",
            "Requirement already satisfied: setuptools>=18.5 in /usr/local/lib/python3.6/dist-packages (from ipython->jupyter-dash) (50.3.2)\n",
            "Requirement already satisfied: decorator in /usr/local/lib/python3.6/dist-packages (from ipython->jupyter-dash) (4.4.2)\n",
            "Requirement already satisfied: pexpect; sys_platform != \"win32\" in /usr/local/lib/python3.6/dist-packages (from ipython->jupyter-dash) (4.8.0)\n",
            "Requirement already satisfied: pygments in /usr/local/lib/python3.6/dist-packages (from ipython->jupyter-dash) (2.6.1)\n",
            "Requirement already satisfied: pickleshare in /usr/local/lib/python3.6/dist-packages (from ipython->jupyter-dash) (0.7.5)\n",
            "Requirement already satisfied: six>=1.7.0 in /usr/local/lib/python3.6/dist-packages (from retrying->jupyter-dash) (1.15.0)\n",
            "Requirement already satisfied: tornado>=4.0 in /usr/local/lib/python3.6/dist-packages (from ipykernel->jupyter-dash) (5.1.1)\n",
            "Requirement already satisfied: jupyter-client in /usr/local/lib/python3.6/dist-packages (from ipykernel->jupyter-dash) (5.3.5)\n",
            "Requirement already satisfied: future in /usr/local/lib/python3.6/dist-packages (from dash->jupyter-dash) (0.16.0)\n",
            "Requirement already satisfied: plotly in /usr/local/lib/python3.6/dist-packages (from dash->jupyter-dash) (4.4.1)\n",
            "Requirement already satisfied: dash-table==4.11.0 in /usr/local/lib/python3.6/dist-packages (from dash->jupyter-dash) (4.11.0)\n",
            "Requirement already satisfied: dash-core-components==1.13.0 in /usr/local/lib/python3.6/dist-packages (from dash->jupyter-dash) (1.13.0)\n",
            "Requirement already satisfied: dash-html-components==1.1.1 in /usr/local/lib/python3.6/dist-packages (from dash->jupyter-dash) (1.1.1)\n",
            "Requirement already satisfied: flask-compress in /usr/local/lib/python3.6/dist-packages (from dash->jupyter-dash) (1.8.0)\n",
            "Requirement already satisfied: dash-renderer==1.8.3 in /usr/local/lib/python3.6/dist-packages (from dash->jupyter-dash) (1.8.3)\n",
            "Requirement already satisfied: certifi>=2017.4.17 in /usr/local/lib/python3.6/dist-packages (from requests->jupyter-dash) (2020.6.20)\n",
            "Requirement already satisfied: chardet<4,>=3.0.2 in /usr/local/lib/python3.6/dist-packages (from requests->jupyter-dash) (3.0.4)\n",
            "Requirement already satisfied: idna<3,>=2.5 in /usr/local/lib/python3.6/dist-packages (from requests->jupyter-dash) (2.10)\n",
            "Requirement already satisfied: urllib3!=1.25.0,!=1.25.1,<1.26,>=1.21.1 in /usr/local/lib/python3.6/dist-packages (from requests->jupyter-dash) (1.24.3)\n",
            "Requirement already satisfied: MarkupSafe>=0.23 in /usr/local/lib/python3.6/dist-packages (from Jinja2>=2.10.1->flask->jupyter-dash) (1.1.1)\n",
            "Requirement already satisfied: ipython-genutils in /usr/local/lib/python3.6/dist-packages (from traitlets>=4.2->ipython->jupyter-dash) (0.2.0)\n",
            "Requirement already satisfied: wcwidth in /usr/local/lib/python3.6/dist-packages (from prompt-toolkit<2.0.0,>=1.0.4->ipython->jupyter-dash) (0.2.5)\n",
            "Requirement already satisfied: ptyprocess>=0.5 in /usr/local/lib/python3.6/dist-packages (from pexpect; sys_platform != \"win32\"->ipython->jupyter-dash) (0.6.0)\n",
            "Requirement already satisfied: jupyter-core>=4.6.0 in /usr/local/lib/python3.6/dist-packages (from jupyter-client->ipykernel->jupyter-dash) (4.6.3)\n",
            "Requirement already satisfied: pyzmq>=13 in /usr/local/lib/python3.6/dist-packages (from jupyter-client->ipykernel->jupyter-dash) (19.0.2)\n",
            "Requirement already satisfied: python-dateutil>=2.1 in /usr/local/lib/python3.6/dist-packages (from jupyter-client->ipykernel->jupyter-dash) (2.8.1)\n",
            "Requirement already satisfied: brotli in /usr/local/lib/python3.6/dist-packages (from flask-compress->dash->jupyter-dash) (1.0.9)\n",
            "Building wheels for collected packages: ansi2html\n",
            "  Building wheel for ansi2html (setup.py) ... \u001b[?25l\u001b[?25hdone\n",
            "  Created wheel for ansi2html: filename=ansi2html-1.5.2-cp36-none-any.whl size=13862 sha256=5c3576120cdf56be86e2bf7faa733739a869213cdb8f8c8e4f65813b0a6025c7\n",
            "  Stored in directory: /root/.cache/pip/wheels/f9/ea/e0/1ed3c3945ce073f930f3e5aa2b9bbadb03cd2efc8f8695cd61\n",
            "Successfully built ansi2html\n",
            "Installing collected packages: ansi2html, jupyter-dash\n",
            "Successfully installed ansi2html-1.5.2 jupyter-dash-0.3.1\n"
          ],
          "name": "stdout"
        }
      ]
    },
    {
      "cell_type": "code",
      "metadata": {
        "id": "93jJVo3vvauz"
      },
      "source": [
        "import pandas as pd\n",
        "all_teams_df = pd.read_csv('shot.csv')"
      ],
      "execution_count": 16,
      "outputs": []
    },
    {
      "cell_type": "code",
      "metadata": {
        "id": "3YXsJhAUwDSv",
        "outputId": "ccd42514-1eca-44e6-c750-fba9ab69aa22",
        "colab": {
          "base_uri": "https://localhost:8080/",
          "height": 289
        }
      },
      "source": [
        "all_teams_df.head()"
      ],
      "execution_count": 17,
      "outputs": [
        {
          "output_type": "execute_result",
          "data": {
            "text/html": [
              "<div>\n",
              "<style scoped>\n",
              "    .dataframe tbody tr th:only-of-type {\n",
              "        vertical-align: middle;\n",
              "    }\n",
              "\n",
              "    .dataframe tbody tr th {\n",
              "        vertical-align: top;\n",
              "    }\n",
              "\n",
              "    .dataframe thead th {\n",
              "        text-align: right;\n",
              "    }\n",
              "</style>\n",
              "<table border=\"1\" class=\"dataframe\">\n",
              "  <thead>\n",
              "    <tr style=\"text-align: right;\">\n",
              "      <th></th>\n",
              "      <th>Unnamed: 0</th>\n",
              "      <th>player</th>\n",
              "      <th>pl_acc</th>\n",
              "      <th>pl_pps</th>\n",
              "      <th>min_start</th>\n",
              "      <th>min_mid</th>\n",
              "      <th>min_end</th>\n",
              "      <th>shots_count</th>\n",
              "      <th>shots_made</th>\n",
              "      <th>shots_freq</th>\n",
              "      <th>shots_acc</th>\n",
              "      <th>group</th>\n",
              "    </tr>\n",
              "  </thead>\n",
              "  <tbody>\n",
              "    <tr>\n",
              "      <th>0</th>\n",
              "      <td>0</td>\n",
              "      <td>Jahlil Okafor</td>\n",
              "      <td>65.1</td>\n",
              "      <td>132.6</td>\n",
              "      <td>1</td>\n",
              "      <td>0.5</td>\n",
              "      <td>1</td>\n",
              "      <td>3</td>\n",
              "      <td>1</td>\n",
              "      <td>3.7</td>\n",
              "      <td>33.3</td>\n",
              "      <td>NOP</td>\n",
              "    </tr>\n",
              "    <tr>\n",
              "      <th>1</th>\n",
              "      <td>1</td>\n",
              "      <td>Jaxson Hayes</td>\n",
              "      <td>77.8</td>\n",
              "      <td>155.6</td>\n",
              "      <td>1</td>\n",
              "      <td>0.5</td>\n",
              "      <td>1</td>\n",
              "      <td>3</td>\n",
              "      <td>2</td>\n",
              "      <td>3.7</td>\n",
              "      <td>66.7</td>\n",
              "      <td>NOP</td>\n",
              "    </tr>\n",
              "    <tr>\n",
              "      <th>2</th>\n",
              "      <td>2</td>\n",
              "      <td>Nicolo Melli</td>\n",
              "      <td>36.4</td>\n",
              "      <td>88.6</td>\n",
              "      <td>1</td>\n",
              "      <td>0.5</td>\n",
              "      <td>1</td>\n",
              "      <td>1</td>\n",
              "      <td>1</td>\n",
              "      <td>1.2</td>\n",
              "      <td>100.0</td>\n",
              "      <td>NOP</td>\n",
              "    </tr>\n",
              "    <tr>\n",
              "      <th>3</th>\n",
              "      <td>3</td>\n",
              "      <td>Zion Williamson</td>\n",
              "      <td>54.3</td>\n",
              "      <td>111.4</td>\n",
              "      <td>1</td>\n",
              "      <td>0.5</td>\n",
              "      <td>1</td>\n",
              "      <td>2</td>\n",
              "      <td>1</td>\n",
              "      <td>2.5</td>\n",
              "      <td>50.0</td>\n",
              "      <td>NOP</td>\n",
              "    </tr>\n",
              "    <tr>\n",
              "      <th>4</th>\n",
              "      <td>4</td>\n",
              "      <td>Frank Jackson</td>\n",
              "      <td>44.7</td>\n",
              "      <td>105.3</td>\n",
              "      <td>1</td>\n",
              "      <td>0.5</td>\n",
              "      <td>1</td>\n",
              "      <td>0</td>\n",
              "      <td>0</td>\n",
              "      <td>0.0</td>\n",
              "      <td>0.0</td>\n",
              "      <td>NOP</td>\n",
              "    </tr>\n",
              "  </tbody>\n",
              "</table>\n",
              "</div>"
            ],
            "text/plain": [
              "   Unnamed: 0           player  pl_acc  ...  shots_freq  shots_acc  group\n",
              "0           0    Jahlil Okafor    65.1  ...         3.7       33.3    NOP\n",
              "1           1     Jaxson Hayes    77.8  ...         3.7       66.7    NOP\n",
              "2           2     Nicolo Melli    36.4  ...         1.2      100.0    NOP\n",
              "3           3  Zion Williamson    54.3  ...         2.5       50.0    NOP\n",
              "4           4    Frank Jackson    44.7  ...         0.0        0.0    NOP\n",
              "\n",
              "[5 rows x 12 columns]"
            ]
          },
          "metadata": {
            "tags": []
          },
          "execution_count": 17
        }
      ]
    },
    {
      "cell_type": "code",
      "metadata": {
        "id": "1bzFNI4iweWQ",
        "outputId": "fdfc0b46-d820-40ad-fb12-d394b733338d",
        "colab": {
          "base_uri": "https://localhost:8080/",
          "height": 575
        }
      },
      "source": [
        "all_teams_df[all_teams_df.group == 'NOP']"
      ],
      "execution_count": 18,
      "outputs": [
        {
          "output_type": "execute_result",
          "data": {
            "text/html": [
              "<div>\n",
              "<style scoped>\n",
              "    .dataframe tbody tr th:only-of-type {\n",
              "        vertical-align: middle;\n",
              "    }\n",
              "\n",
              "    .dataframe tbody tr th {\n",
              "        vertical-align: top;\n",
              "    }\n",
              "\n",
              "    .dataframe thead th {\n",
              "        text-align: right;\n",
              "    }\n",
              "</style>\n",
              "<table border=\"1\" class=\"dataframe\">\n",
              "  <thead>\n",
              "    <tr style=\"text-align: right;\">\n",
              "      <th></th>\n",
              "      <th>Unnamed: 0</th>\n",
              "      <th>player</th>\n",
              "      <th>pl_acc</th>\n",
              "      <th>pl_pps</th>\n",
              "      <th>min_start</th>\n",
              "      <th>min_mid</th>\n",
              "      <th>min_end</th>\n",
              "      <th>shots_count</th>\n",
              "      <th>shots_made</th>\n",
              "      <th>shots_freq</th>\n",
              "      <th>shots_acc</th>\n",
              "      <th>group</th>\n",
              "    </tr>\n",
              "  </thead>\n",
              "  <tbody>\n",
              "    <tr>\n",
              "      <th>0</th>\n",
              "      <td>0</td>\n",
              "      <td>Jahlil Okafor</td>\n",
              "      <td>65.1</td>\n",
              "      <td>132.6</td>\n",
              "      <td>1</td>\n",
              "      <td>0.5</td>\n",
              "      <td>1</td>\n",
              "      <td>3</td>\n",
              "      <td>1</td>\n",
              "      <td>3.7</td>\n",
              "      <td>33.3</td>\n",
              "      <td>NOP</td>\n",
              "    </tr>\n",
              "    <tr>\n",
              "      <th>1</th>\n",
              "      <td>1</td>\n",
              "      <td>Jaxson Hayes</td>\n",
              "      <td>77.8</td>\n",
              "      <td>155.6</td>\n",
              "      <td>1</td>\n",
              "      <td>0.5</td>\n",
              "      <td>1</td>\n",
              "      <td>3</td>\n",
              "      <td>2</td>\n",
              "      <td>3.7</td>\n",
              "      <td>66.7</td>\n",
              "      <td>NOP</td>\n",
              "    </tr>\n",
              "    <tr>\n",
              "      <th>2</th>\n",
              "      <td>2</td>\n",
              "      <td>Nicolo Melli</td>\n",
              "      <td>36.4</td>\n",
              "      <td>88.6</td>\n",
              "      <td>1</td>\n",
              "      <td>0.5</td>\n",
              "      <td>1</td>\n",
              "      <td>1</td>\n",
              "      <td>1</td>\n",
              "      <td>1.2</td>\n",
              "      <td>100.0</td>\n",
              "      <td>NOP</td>\n",
              "    </tr>\n",
              "    <tr>\n",
              "      <th>3</th>\n",
              "      <td>3</td>\n",
              "      <td>Zion Williamson</td>\n",
              "      <td>54.3</td>\n",
              "      <td>111.4</td>\n",
              "      <td>1</td>\n",
              "      <td>0.5</td>\n",
              "      <td>1</td>\n",
              "      <td>2</td>\n",
              "      <td>1</td>\n",
              "      <td>2.5</td>\n",
              "      <td>50.0</td>\n",
              "      <td>NOP</td>\n",
              "    </tr>\n",
              "    <tr>\n",
              "      <th>4</th>\n",
              "      <td>4</td>\n",
              "      <td>Frank Jackson</td>\n",
              "      <td>44.7</td>\n",
              "      <td>105.3</td>\n",
              "      <td>1</td>\n",
              "      <td>0.5</td>\n",
              "      <td>1</td>\n",
              "      <td>0</td>\n",
              "      <td>0</td>\n",
              "      <td>0.0</td>\n",
              "      <td>0.0</td>\n",
              "      <td>NOP</td>\n",
              "    </tr>\n",
              "    <tr>\n",
              "      <th>...</th>\n",
              "      <td>...</td>\n",
              "      <td>...</td>\n",
              "      <td>...</td>\n",
              "      <td>...</td>\n",
              "      <td>...</td>\n",
              "      <td>...</td>\n",
              "      <td>...</td>\n",
              "      <td>...</td>\n",
              "      <td>...</td>\n",
              "      <td>...</td>\n",
              "      <td>...</td>\n",
              "      <td>...</td>\n",
              "    </tr>\n",
              "    <tr>\n",
              "      <th>667</th>\n",
              "      <td>667</td>\n",
              "      <td>Lonzo Ball</td>\n",
              "      <td>43.8</td>\n",
              "      <td>112.4</td>\n",
              "      <td>48</td>\n",
              "      <td>47.5</td>\n",
              "      <td>48</td>\n",
              "      <td>4</td>\n",
              "      <td>1</td>\n",
              "      <td>5.1</td>\n",
              "      <td>25.0</td>\n",
              "      <td>NOP</td>\n",
              "    </tr>\n",
              "    <tr>\n",
              "      <th>668</th>\n",
              "      <td>668</td>\n",
              "      <td>JJ Redick</td>\n",
              "      <td>42.9</td>\n",
              "      <td>114.3</td>\n",
              "      <td>48</td>\n",
              "      <td>47.5</td>\n",
              "      <td>48</td>\n",
              "      <td>17</td>\n",
              "      <td>5</td>\n",
              "      <td>21.5</td>\n",
              "      <td>29.4</td>\n",
              "      <td>NOP</td>\n",
              "    </tr>\n",
              "    <tr>\n",
              "      <th>669</th>\n",
              "      <td>669</td>\n",
              "      <td>Josh Hart</td>\n",
              "      <td>49.5</td>\n",
              "      <td>126.2</td>\n",
              "      <td>48</td>\n",
              "      <td>47.5</td>\n",
              "      <td>48</td>\n",
              "      <td>7</td>\n",
              "      <td>2</td>\n",
              "      <td>8.9</td>\n",
              "      <td>28.6</td>\n",
              "      <td>NOP</td>\n",
              "    </tr>\n",
              "    <tr>\n",
              "      <th>670</th>\n",
              "      <td>670</td>\n",
              "      <td>Jrue Holiday</td>\n",
              "      <td>38.5</td>\n",
              "      <td>87.4</td>\n",
              "      <td>48</td>\n",
              "      <td>47.5</td>\n",
              "      <td>48</td>\n",
              "      <td>15</td>\n",
              "      <td>5</td>\n",
              "      <td>19.0</td>\n",
              "      <td>33.3</td>\n",
              "      <td>NOP</td>\n",
              "    </tr>\n",
              "    <tr>\n",
              "      <th>671</th>\n",
              "      <td>671</td>\n",
              "      <td>Brandon Ingram</td>\n",
              "      <td>48.1</td>\n",
              "      <td>110.6</td>\n",
              "      <td>48</td>\n",
              "      <td>47.5</td>\n",
              "      <td>48</td>\n",
              "      <td>20</td>\n",
              "      <td>7</td>\n",
              "      <td>25.3</td>\n",
              "      <td>35.0</td>\n",
              "      <td>NOP</td>\n",
              "    </tr>\n",
              "  </tbody>\n",
              "</table>\n",
              "<p>672 rows × 12 columns</p>\n",
              "</div>"
            ],
            "text/plain": [
              "     Unnamed: 0           player  pl_acc  ...  shots_freq  shots_acc  group\n",
              "0             0    Jahlil Okafor    65.1  ...         3.7       33.3    NOP\n",
              "1             1     Jaxson Hayes    77.8  ...         3.7       66.7    NOP\n",
              "2             2     Nicolo Melli    36.4  ...         1.2      100.0    NOP\n",
              "3             3  Zion Williamson    54.3  ...         2.5       50.0    NOP\n",
              "4             4    Frank Jackson    44.7  ...         0.0        0.0    NOP\n",
              "..          ...              ...     ...  ...         ...        ...    ...\n",
              "667         667       Lonzo Ball    43.8  ...         5.1       25.0    NOP\n",
              "668         668        JJ Redick    42.9  ...        21.5       29.4    NOP\n",
              "669         669        Josh Hart    49.5  ...         8.9       28.6    NOP\n",
              "670         670     Jrue Holiday    38.5  ...        19.0       33.3    NOP\n",
              "671         671   Brandon Ingram    48.1  ...        25.3       35.0    NOP\n",
              "\n",
              "[672 rows x 12 columns]"
            ]
          },
          "metadata": {
            "tags": []
          },
          "execution_count": 18
        }
      ]
    },
    {
      "cell_type": "code",
      "metadata": {
        "id": "e8oOYpJBwn0K",
        "outputId": "2abd106c-5705-4d1b-84a8-3047f6416be2",
        "colab": {
          "base_uri": "https://localhost:8080/",
          "height": 542
        }
      },
      "source": [
        "import plotly.express as px\n",
        "fig = px.scatter(all_teams_df[all_teams_df.group == 'NOP'], x='min_mid', y='player', size='shots_freq', color='pl_pps')\n",
        "fig.show()"
      ],
      "execution_count": 19,
      "outputs": [
        {
          "output_type": "display_data",
          "data": {
            "text/html": [
              "<html>\n",
              "<head><meta charset=\"utf-8\" /></head>\n",
              "<body>\n",
              "    <div>\n",
              "            <script src=\"https://cdnjs.cloudflare.com/ajax/libs/mathjax/2.7.5/MathJax.js?config=TeX-AMS-MML_SVG\"></script><script type=\"text/javascript\">if (window.MathJax) {MathJax.Hub.Config({SVG: {font: \"STIX-Web\"}});}</script>\n",
              "                <script type=\"text/javascript\">window.PlotlyConfig = {MathJaxConfig: 'local'};</script>\n",
              "        <script src=\"https://cdn.plot.ly/plotly-latest.min.js\"></script>    \n",
              "            <div id=\"11133dae-2a62-46fe-b52d-0a1afc0eceb1\" class=\"plotly-graph-div\" style=\"height:525px; width:100%;\"></div>\n",
              "            <script type=\"text/javascript\">\n",
              "                \n",
              "                    window.PLOTLYENV=window.PLOTLYENV || {};\n",
              "                    \n",
              "                if (document.getElementById(\"11133dae-2a62-46fe-b52d-0a1afc0eceb1\")) {\n",
              "                    Plotly.newPlot(\n",
              "                        '11133dae-2a62-46fe-b52d-0a1afc0eceb1',\n",
              "                        [{\"hoverlabel\": {\"namelength\": 0}, \"hovertemplate\": \"min_mid=%{x}<br>player=%{y}<br>shots_freq=%{marker.size}<br>pl_pps=%{marker.color}\", \"legendgroup\": \"\", \"marker\": {\"color\": [132.6, 155.6, 88.6, 111.4, 105.3, 57.8, 95.5, 142.0, 100.0, 107.1, 122.7, 103.2, 101.9, 109.0, 132.6, 155.6, 88.6, 111.4, 105.3, 57.8, 95.5, 142.0, 100.0, 107.1, 122.7, 103.2, 101.9, 109.0, 132.6, 155.6, 88.6, 111.4, 105.3, 57.8, 95.5, 142.0, 100.0, 107.1, 122.7, 103.2, 101.9, 109.0, 132.6, 155.6, 88.6, 111.4, 105.3, 57.8, 95.5, 142.0, 100.0, 107.1, 122.7, 103.2, 101.9, 109.0, 132.6, 155.6, 88.6, 111.4, 105.3, 57.8, 95.5, 142.0, 100.0, 107.1, 122.7, 103.2, 101.9, 109.0, 132.6, 155.6, 88.6, 111.4, 105.3, 57.8, 95.5, 142.0, 100.0, 107.1, 122.7, 103.2, 101.9, 109.0, 132.6, 155.6, 88.6, 111.4, 105.3, 57.8, 95.5, 142.0, 100.0, 107.1, 122.7, 103.2, 101.9, 109.0, 132.6, 155.6, 88.6, 111.4, 105.3, 57.8, 95.5, 142.0, 100.0, 107.1, 122.7, 103.2, 101.9, 109.0, 132.6, 155.6, 88.6, 111.4, 105.3, 57.8, 95.5, 142.0, 100.0, 107.1, 122.7, 103.2, 101.9, 109.0, 132.6, 155.6, 88.6, 111.4, 105.3, 57.8, 95.5, 142.0, 100.0, 107.1, 122.7, 103.2, 101.9, 109.0, 132.6, 155.6, 88.6, 111.4, 105.3, 57.8, 95.5, 142.0, 100.0, 107.1, 122.7, 103.2, 101.9, 109.0, 132.6, 155.6, 88.6, 111.4, 105.3, 57.8, 95.5, 142.0, 100.0, 107.1, 122.7, 103.2, 101.9, 109.0, 123.8, 117.7, 131.4, 120.8, 95.1, 81.4, 54.5, 110.9, 102.5, 84.4, 118.4, 118.6, 113.7, 93.7, 123.8, 117.7, 131.4, 120.8, 95.1, 81.4, 54.5, 110.9, 102.5, 84.4, 118.4, 118.6, 113.7, 93.7, 123.8, 117.7, 131.4, 120.8, 95.1, 81.4, 54.5, 110.9, 102.5, 84.4, 118.4, 118.6, 113.7, 93.7, 123.8, 117.7, 131.4, 120.8, 95.1, 81.4, 54.5, 110.9, 102.5, 84.4, 118.4, 118.6, 113.7, 93.7, 123.8, 117.7, 131.4, 120.8, 95.1, 81.4, 54.5, 110.9, 102.5, 84.4, 118.4, 118.6, 113.7, 93.7, 123.8, 117.7, 131.4, 120.8, 95.1, 81.4, 54.5, 110.9, 102.5, 84.4, 118.4, 118.6, 113.7, 93.7, 123.8, 117.7, 131.4, 120.8, 95.1, 81.4, 54.5, 110.9, 102.5, 84.4, 118.4, 118.6, 113.7, 93.7, 123.8, 117.7, 131.4, 120.8, 95.1, 81.4, 54.5, 110.9, 102.5, 84.4, 118.4, 118.6, 113.7, 93.7, 123.8, 117.7, 131.4, 120.8, 95.1, 81.4, 54.5, 110.9, 102.5, 84.4, 118.4, 118.6, 113.7, 93.7, 123.8, 117.7, 131.4, 120.8, 95.1, 81.4, 54.5, 110.9, 102.5, 84.4, 118.4, 118.6, 113.7, 93.7, 123.8, 117.7, 131.4, 120.8, 95.1, 81.4, 54.5, 110.9, 102.5, 84.4, 118.4, 118.6, 113.7, 93.7, 123.8, 117.7, 131.4, 120.8, 95.1, 81.4, 54.5, 110.9, 102.5, 84.4, 118.4, 118.6, 113.7, 93.7, 125.0, 122.8, 140.9, 129.7, 116.7, 91.7, 83.3, 129.3, 98.6, 97.2, 112.0, 90.4, 103.8, 114.5, 125.0, 122.8, 140.9, 129.7, 116.7, 91.7, 83.3, 129.3, 98.6, 97.2, 112.0, 90.4, 103.8, 114.5, 125.0, 122.8, 140.9, 129.7, 116.7, 91.7, 83.3, 129.3, 98.6, 97.2, 112.0, 90.4, 103.8, 114.5, 125.0, 122.8, 140.9, 129.7, 116.7, 91.7, 83.3, 129.3, 98.6, 97.2, 112.0, 90.4, 103.8, 114.5, 125.0, 122.8, 140.9, 129.7, 116.7, 91.7, 83.3, 129.3, 98.6, 97.2, 112.0, 90.4, 103.8, 114.5, 125.0, 122.8, 140.9, 129.7, 116.7, 91.7, 83.3, 129.3, 98.6, 97.2, 112.0, 90.4, 103.8, 114.5, 125.0, 122.8, 140.9, 129.7, 116.7, 91.7, 83.3, 129.3, 98.6, 97.2, 112.0, 90.4, 103.8, 114.5, 125.0, 122.8, 140.9, 129.7, 116.7, 91.7, 83.3, 129.3, 98.6, 97.2, 112.0, 90.4, 103.8, 114.5, 125.0, 122.8, 140.9, 129.7, 116.7, 91.7, 83.3, 129.3, 98.6, 97.2, 112.0, 90.4, 103.8, 114.5, 125.0, 122.8, 140.9, 129.7, 116.7, 91.7, 83.3, 129.3, 98.6, 97.2, 112.0, 90.4, 103.8, 114.5, 125.0, 122.8, 140.9, 129.7, 116.7, 91.7, 83.3, 129.3, 98.6, 97.2, 112.0, 90.4, 103.8, 114.5, 125.0, 122.8, 140.9, 129.7, 116.7, 91.7, 83.3, 129.3, 98.6, 97.2, 112.0, 90.4, 103.8, 114.5, 105.9, 130.8, 110.5, 125.7, 73.7, 117.9, 94.1, 123.1, 98.0, 112.4, 114.3, 126.2, 87.4, 110.6, 105.9, 130.8, 110.5, 125.7, 73.7, 117.9, 94.1, 123.1, 98.0, 112.4, 114.3, 126.2, 87.4, 110.6, 105.9, 130.8, 110.5, 125.7, 73.7, 117.9, 94.1, 123.1, 98.0, 112.4, 114.3, 126.2, 87.4, 110.6, 105.9, 130.8, 110.5, 125.7, 73.7, 117.9, 94.1, 123.1, 98.0, 112.4, 114.3, 126.2, 87.4, 110.6, 105.9, 130.8, 110.5, 125.7, 73.7, 117.9, 94.1, 123.1, 98.0, 112.4, 114.3, 126.2, 87.4, 110.6, 105.9, 130.8, 110.5, 125.7, 73.7, 117.9, 94.1, 123.1, 98.0, 112.4, 114.3, 126.2, 87.4, 110.6, 105.9, 130.8, 110.5, 125.7, 73.7, 117.9, 94.1, 123.1, 98.0, 112.4, 114.3, 126.2, 87.4, 110.6, 105.9, 130.8, 110.5, 125.7, 73.7, 117.9, 94.1, 123.1, 98.0, 112.4, 114.3, 126.2, 87.4, 110.6, 105.9, 130.8, 110.5, 125.7, 73.7, 117.9, 94.1, 123.1, 98.0, 112.4, 114.3, 126.2, 87.4, 110.6, 105.9, 130.8, 110.5, 125.7, 73.7, 117.9, 94.1, 123.1, 98.0, 112.4, 114.3, 126.2, 87.4, 110.6, 105.9, 130.8, 110.5, 125.7, 73.7, 117.9, 94.1, 123.1, 98.0, 112.4, 114.3, 126.2, 87.4, 110.6, 105.9, 130.8, 110.5, 125.7, 73.7, 117.9, 94.1, 123.1, 98.0, 112.4, 114.3, 126.2, 87.4, 110.6], \"coloraxis\": \"coloraxis\", \"size\": [3.7, 3.7, 1.2, 2.5, 0.0, 0.0, 1.2, 8.6, 2.5, 13.6, 19.8, 2.5, 22.2, 18.5, 0.0, 4.8, 2.9, 6.7, 0.0, 0.0, 1.9, 10.5, 2.9, 17.1, 12.4, 1.9, 19.0, 20.0, 3.1, 5.3, 1.5, 3.1, 0.8, 0.0, 2.3, 7.6, 0.8, 12.2, 10.7, 0.8, 19.8, 32.1, 0.9, 0.9, 1.8, 7.3, 0.9, 0.0, 5.5, 5.5, 3.6, 12.7, 17.3, 0.9, 19.1, 23.6, 0.0, 0.9, 1.7, 5.2, 0.9, 0.0, 5.2, 11.3, 0.9, 13.0, 15.7, 7.0, 18.3, 20.0, 5.6, 4.6, 1.9, 4.6, 0.0, 0.0, 4.6, 7.4, 2.8, 14.8, 15.7, 4.6, 19.4, 13.9, 2.8, 4.6, 0.9, 1.9, 0.9, 0.9, 2.8, 4.6, 0.9, 13.9, 16.7, 7.4, 17.6, 24.1, 7.1, 5.1, 2.0, 1.0, 2.0, 2.0, 3.1, 4.1, 2.0, 13.3, 14.3, 5.1, 17.3, 21.4, 1.7, 8.7, 5.2, 0.0, 3.5, 6.1, 3.5, 0.9, 4.3, 7.8, 19.1, 6.1, 12.2, 20.9, 9.5, 8.4, 8.4, 0.0, 6.3, 9.5, 2.1, 0.0, 6.3, 13.7, 8.4, 8.4, 6.3, 11.6, 2.9, 4.9, 8.7, 0.0, 7.8, 12.6, 5.8, 1.9, 7.8, 5.8, 10.7, 8.7, 8.7, 13.6, 4.0, 6.4, 4.8, 0.0, 11.2, 10.4, 2.4, 1.6, 7.2, 8.0, 8.8, 4.8, 16.8, 13.6, 0.0, 2.2, 7.5, 7.5, 9.7, 14.0, 4.3, 2.2, 19.4, 7.5, 3.2, 7.5, 10.8, 4.3, 6.5, 3.7, 7.4, 4.6, 13.0, 6.5, 3.7, 1.9, 10.2, 9.3, 4.6, 13.9, 12.0, 1.9, 6.4, 6.4, 11.0, 1.8, 15.6, 8.3, 1.8, 2.8, 10.1, 13.8, 5.5, 3.7, 10.1, 2.8, 5.3, 5.3, 8.8, 7.1, 3.5, 8.0, 0.9, 3.5, 15.9, 4.4, 6.2, 11.5, 8.8, 10.6, 2.8, 2.8, 6.4, 7.3, 2.8, 6.4, 1.8, 0.0, 19.3, 5.5, 6.4, 9.2, 17.4, 11.0, 3.0, 5.0, 8.9, 5.9, 6.9, 3.0, 4.0, 6.9, 9.9, 6.9, 5.0, 8.9, 13.9, 11.9, 4.0, 10.9, 5.0, 0.0, 5.0, 3.0, 2.0, 7.9, 7.9, 12.9, 5.9, 8.9, 13.9, 11.9, 3.7, 0.9, 0.9, 0.9, 6.5, 2.8, 3.7, 9.3, 3.7, 12.0, 15.7, 7.4, 13.9, 17.6, 2.9, 3.9, 1.9, 1.9, 1.9, 0.0, 0.0, 3.9, 3.9, 16.5, 19.4, 7.8, 15.5, 19.4, 0.0, 6.2, 2.7, 1.8, 3.6, 0.9, 2.7, 5.4, 5.4, 8.9, 13.4, 7.1, 17.9, 24.1, 1.9, 6.6, 3.8, 2.8, 2.8, 1.9, 1.9, 2.8, 4.7, 9.4, 14.2, 10.4, 15.1, 21.7, 2.4, 4.1, 1.6, 3.3, 4.9, 1.6, 4.1, 4.9, 4.9, 7.3, 15.4, 8.9, 13.8, 22.8, 1.1, 3.4, 1.1, 3.4, 0.0, 0.0, 1.1, 6.9, 1.1, 16.1, 14.9, 5.7, 25.3, 19.5, 0.9, 4.7, 0.9, 6.5, 0.0, 0.0, 1.9, 14.0, 2.8, 12.1, 14.0, 5.6, 18.7, 17.8, 4.4, 2.6, 1.8, 5.3, 0.0, 0.0, 4.4, 12.3, 2.6, 13.2, 10.5, 2.6, 19.3, 21.1, 2.0, 4.0, 1.0, 5.0, 0.0, 0.0, 4.0, 9.0, 2.0, 8.0, 12.0, 8.0, 23.0, 22.0, 1.8, 0.9, 3.6, 5.4, 0.9, 0.0, 5.4, 10.7, 2.7, 11.6, 9.8, 6.2, 18.8, 22.3, 1.8, 5.4, 4.5, 5.4, 0.0, 0.0, 4.5, 10.7, 5.4, 8.9, 11.6, 7.1, 14.3, 20.5, 1.8, 1.8, 2.7, 2.7, 0.9, 1.8, 3.6, 5.4, 2.7, 14.3, 17.9, 8.9, 15.2, 20.5, 4.0, 5.0, 4.0, 1.0, 3.0, 5.0, 1.0, 4.0, 6.9, 6.9, 13.9, 14.9, 14.9, 15.8, 5.0, 5.9, 6.9, 0.0, 4.0, 2.0, 5.9, 2.0, 4.0, 11.9, 10.9, 4.0, 14.9, 21.8, 1.0, 4.8, 1.9, 0.0, 3.8, 5.8, 0.0, 1.9, 14.4, 12.5, 12.5, 13.5, 13.5, 14.4, 0.0, 7.3, 0.9, 0.0, 11.0, 6.4, 4.6, 0.0, 9.2, 11.0, 14.7, 10.1, 12.8, 11.9, 5.7, 7.3, 10.6, 0.0, 8.9, 11.4, 2.4, 0.0, 10.6, 7.3, 6.5, 10.6, 11.4, 7.3, 2.3, 3.4, 4.6, 3.4, 4.6, 9.2, 1.1, 5.7, 16.1, 12.6, 2.3, 12.6, 13.8, 8.0, 2.3, 4.5, 9.1, 3.4, 8.0, 8.0, 1.1, 4.5, 11.4, 10.2, 5.7, 8.0, 19.3, 4.5, 1.3, 5.3, 6.6, 1.3, 5.3, 10.5, 1.3, 0.0, 17.1, 9.2, 5.3, 11.8, 15.8, 9.2, 2.2, 2.2, 5.5, 8.8, 5.5, 8.8, 0.0, 2.2, 12.1, 5.5, 5.5, 14.3, 19.8, 7.7, 0.0, 4.7, 0.9, 10.4, 4.7, 6.6, 0.0, 2.8, 12.3, 10.4, 6.6, 12.3, 15.1, 13.2, 2.4, 3.6, 6.0, 3.6, 3.6, 7.1, 3.6, 4.8, 10.7, 2.4, 4.8, 10.7, 21.4, 15.5, 3.8, 0.0, 5.1, 0.0, 1.3, 3.8, 1.3, 6.4, 9.0, 14.1, 9.0, 7.7, 17.9, 20.5, 0.0, 1.3, 2.6, 0.0, 2.6, 2.6, 2.6, 10.4, 9.1, 7.8, 5.2, 11.7, 23.4, 20.8, 2.8, 2.8, 0.0, 2.8, 0.0, 2.8, 4.2, 1.4, 4.2, 9.9, 7.0, 11.3, 21.1, 29.6, 1.6, 1.6, 0.0, 3.1, 1.6, 3.1, 1.6, 4.7, 12.5, 10.9, 6.2, 9.4, 18.8, 25.0, 2.7, 1.4, 1.4, 2.7, 5.5, 1.4, 0.0, 4.1, 1.4, 12.3, 8.2, 12.3, 20.5, 26.0, 0.0, 0.0, 3.8, 0.0, 2.5, 2.5, 5.1, 1.3, 5.1, 5.1, 21.5, 8.9, 19.0, 25.3], \"sizemode\": \"area\", \"sizeref\": 0.08025, \"symbol\": \"circle\"}, \"mode\": \"markers\", \"name\": \"\", \"showlegend\": false, \"type\": \"scatter\", \"x\": [0.5, 0.5, 0.5, 0.5, 0.5, 0.5, 0.5, 0.5, 0.5, 0.5, 0.5, 0.5, 0.5, 0.5, 1.5, 1.5, 1.5, 1.5, 1.5, 1.5, 1.5, 1.5, 1.5, 1.5, 1.5, 1.5, 1.5, 1.5, 2.5, 2.5, 2.5, 2.5, 2.5, 2.5, 2.5, 2.5, 2.5, 2.5, 2.5, 2.5, 2.5, 2.5, 3.5, 3.5, 3.5, 3.5, 3.5, 3.5, 3.5, 3.5, 3.5, 3.5, 3.5, 3.5, 3.5, 3.5, 4.5, 4.5, 4.5, 4.5, 4.5, 4.5, 4.5, 4.5, 4.5, 4.5, 4.5, 4.5, 4.5, 4.5, 5.5, 5.5, 5.5, 5.5, 5.5, 5.5, 5.5, 5.5, 5.5, 5.5, 5.5, 5.5, 5.5, 5.5, 6.5, 6.5, 6.5, 6.5, 6.5, 6.5, 6.5, 6.5, 6.5, 6.5, 6.5, 6.5, 6.5, 6.5, 7.5, 7.5, 7.5, 7.5, 7.5, 7.5, 7.5, 7.5, 7.5, 7.5, 7.5, 7.5, 7.5, 7.5, 8.5, 8.5, 8.5, 8.5, 8.5, 8.5, 8.5, 8.5, 8.5, 8.5, 8.5, 8.5, 8.5, 8.5, 9.5, 9.5, 9.5, 9.5, 9.5, 9.5, 9.5, 9.5, 9.5, 9.5, 9.5, 9.5, 9.5, 9.5, 10.5, 10.5, 10.5, 10.5, 10.5, 10.5, 10.5, 10.5, 10.5, 10.5, 10.5, 10.5, 10.5, 10.5, 11.5, 11.5, 11.5, 11.5, 11.5, 11.5, 11.5, 11.5, 11.5, 11.5, 11.5, 11.5, 11.5, 11.5, 12.5, 12.5, 12.5, 12.5, 12.5, 12.5, 12.5, 12.5, 12.5, 12.5, 12.5, 12.5, 12.5, 12.5, 13.5, 13.5, 13.5, 13.5, 13.5, 13.5, 13.5, 13.5, 13.5, 13.5, 13.5, 13.5, 13.5, 13.5, 14.5, 14.5, 14.5, 14.5, 14.5, 14.5, 14.5, 14.5, 14.5, 14.5, 14.5, 14.5, 14.5, 14.5, 15.5, 15.5, 15.5, 15.5, 15.5, 15.5, 15.5, 15.5, 15.5, 15.5, 15.5, 15.5, 15.5, 15.5, 16.5, 16.5, 16.5, 16.5, 16.5, 16.5, 16.5, 16.5, 16.5, 16.5, 16.5, 16.5, 16.5, 16.5, 17.5, 17.5, 17.5, 17.5, 17.5, 17.5, 17.5, 17.5, 17.5, 17.5, 17.5, 17.5, 17.5, 17.5, 18.5, 18.5, 18.5, 18.5, 18.5, 18.5, 18.5, 18.5, 18.5, 18.5, 18.5, 18.5, 18.5, 18.5, 19.5, 19.5, 19.5, 19.5, 19.5, 19.5, 19.5, 19.5, 19.5, 19.5, 19.5, 19.5, 19.5, 19.5, 20.5, 20.5, 20.5, 20.5, 20.5, 20.5, 20.5, 20.5, 20.5, 20.5, 20.5, 20.5, 20.5, 20.5, 21.5, 21.5, 21.5, 21.5, 21.5, 21.5, 21.5, 21.5, 21.5, 21.5, 21.5, 21.5, 21.5, 21.5, 22.5, 22.5, 22.5, 22.5, 22.5, 22.5, 22.5, 22.5, 22.5, 22.5, 22.5, 22.5, 22.5, 22.5, 23.5, 23.5, 23.5, 23.5, 23.5, 23.5, 23.5, 23.5, 23.5, 23.5, 23.5, 23.5, 23.5, 23.5, 24.5, 24.5, 24.5, 24.5, 24.5, 24.5, 24.5, 24.5, 24.5, 24.5, 24.5, 24.5, 24.5, 24.5, 25.5, 25.5, 25.5, 25.5, 25.5, 25.5, 25.5, 25.5, 25.5, 25.5, 25.5, 25.5, 25.5, 25.5, 26.5, 26.5, 26.5, 26.5, 26.5, 26.5, 26.5, 26.5, 26.5, 26.5, 26.5, 26.5, 26.5, 26.5, 27.5, 27.5, 27.5, 27.5, 27.5, 27.5, 27.5, 27.5, 27.5, 27.5, 27.5, 27.5, 27.5, 27.5, 28.5, 28.5, 28.5, 28.5, 28.5, 28.5, 28.5, 28.5, 28.5, 28.5, 28.5, 28.5, 28.5, 28.5, 29.5, 29.5, 29.5, 29.5, 29.5, 29.5, 29.5, 29.5, 29.5, 29.5, 29.5, 29.5, 29.5, 29.5, 30.5, 30.5, 30.5, 30.5, 30.5, 30.5, 30.5, 30.5, 30.5, 30.5, 30.5, 30.5, 30.5, 30.5, 31.5, 31.5, 31.5, 31.5, 31.5, 31.5, 31.5, 31.5, 31.5, 31.5, 31.5, 31.5, 31.5, 31.5, 32.5, 32.5, 32.5, 32.5, 32.5, 32.5, 32.5, 32.5, 32.5, 32.5, 32.5, 32.5, 32.5, 32.5, 33.5, 33.5, 33.5, 33.5, 33.5, 33.5, 33.5, 33.5, 33.5, 33.5, 33.5, 33.5, 33.5, 33.5, 34.5, 34.5, 34.5, 34.5, 34.5, 34.5, 34.5, 34.5, 34.5, 34.5, 34.5, 34.5, 34.5, 34.5, 35.5, 35.5, 35.5, 35.5, 35.5, 35.5, 35.5, 35.5, 35.5, 35.5, 35.5, 35.5, 35.5, 35.5, 36.5, 36.5, 36.5, 36.5, 36.5, 36.5, 36.5, 36.5, 36.5, 36.5, 36.5, 36.5, 36.5, 36.5, 37.5, 37.5, 37.5, 37.5, 37.5, 37.5, 37.5, 37.5, 37.5, 37.5, 37.5, 37.5, 37.5, 37.5, 38.5, 38.5, 38.5, 38.5, 38.5, 38.5, 38.5, 38.5, 38.5, 38.5, 38.5, 38.5, 38.5, 38.5, 39.5, 39.5, 39.5, 39.5, 39.5, 39.5, 39.5, 39.5, 39.5, 39.5, 39.5, 39.5, 39.5, 39.5, 40.5, 40.5, 40.5, 40.5, 40.5, 40.5, 40.5, 40.5, 40.5, 40.5, 40.5, 40.5, 40.5, 40.5, 41.5, 41.5, 41.5, 41.5, 41.5, 41.5, 41.5, 41.5, 41.5, 41.5, 41.5, 41.5, 41.5, 41.5, 42.5, 42.5, 42.5, 42.5, 42.5, 42.5, 42.5, 42.5, 42.5, 42.5, 42.5, 42.5, 42.5, 42.5, 43.5, 43.5, 43.5, 43.5, 43.5, 43.5, 43.5, 43.5, 43.5, 43.5, 43.5, 43.5, 43.5, 43.5, 44.5, 44.5, 44.5, 44.5, 44.5, 44.5, 44.5, 44.5, 44.5, 44.5, 44.5, 44.5, 44.5, 44.5, 45.5, 45.5, 45.5, 45.5, 45.5, 45.5, 45.5, 45.5, 45.5, 45.5, 45.5, 45.5, 45.5, 45.5, 46.5, 46.5, 46.5, 46.5, 46.5, 46.5, 46.5, 46.5, 46.5, 46.5, 46.5, 46.5, 46.5, 46.5, 47.5, 47.5, 47.5, 47.5, 47.5, 47.5, 47.5, 47.5, 47.5, 47.5, 47.5, 47.5, 47.5, 47.5], \"xaxis\": \"x\", \"y\": [\"Jahlil Okafor\", \"Jaxson Hayes\", \"Nicolo Melli\", \"Zion Williamson\", \"Frank Jackson\", \"Nickeil Alexander-Walker\", \"Kenrich Williams\", \"Derrick Favors\", \"E'Twaun Moore\", \"Lonzo Ball\", \"JJ Redick\", \"Josh Hart\", \"Jrue Holiday\", \"Brandon Ingram\", \"Jahlil Okafor\", \"Jaxson Hayes\", \"Nicolo Melli\", \"Zion Williamson\", \"Frank Jackson\", \"Nickeil Alexander-Walker\", \"Kenrich Williams\", \"Derrick Favors\", \"E'Twaun Moore\", \"Lonzo Ball\", \"JJ Redick\", \"Josh Hart\", \"Jrue Holiday\", \"Brandon Ingram\", \"Jahlil Okafor\", \"Jaxson Hayes\", \"Nicolo Melli\", \"Zion Williamson\", \"Frank Jackson\", \"Nickeil Alexander-Walker\", \"Kenrich Williams\", \"Derrick Favors\", \"E'Twaun Moore\", \"Lonzo Ball\", \"JJ Redick\", \"Josh Hart\", \"Jrue Holiday\", \"Brandon Ingram\", \"Jahlil Okafor\", \"Jaxson Hayes\", \"Nicolo Melli\", \"Zion Williamson\", \"Frank Jackson\", \"Nickeil Alexander-Walker\", \"Kenrich Williams\", \"Derrick Favors\", \"E'Twaun Moore\", \"Lonzo Ball\", \"JJ Redick\", \"Josh Hart\", \"Jrue Holiday\", \"Brandon Ingram\", \"Jahlil Okafor\", \"Jaxson Hayes\", \"Nicolo Melli\", \"Zion Williamson\", \"Frank Jackson\", \"Nickeil Alexander-Walker\", \"Kenrich Williams\", \"Derrick Favors\", \"E'Twaun Moore\", \"Lonzo Ball\", \"JJ Redick\", \"Josh Hart\", \"Jrue Holiday\", \"Brandon Ingram\", \"Jahlil Okafor\", \"Jaxson Hayes\", \"Nicolo Melli\", \"Zion Williamson\", \"Frank Jackson\", \"Nickeil Alexander-Walker\", \"Kenrich Williams\", \"Derrick Favors\", \"E'Twaun Moore\", \"Lonzo Ball\", \"JJ Redick\", \"Josh Hart\", \"Jrue Holiday\", \"Brandon Ingram\", \"Jahlil Okafor\", \"Jaxson Hayes\", \"Nicolo Melli\", \"Zion Williamson\", \"Frank Jackson\", \"Nickeil Alexander-Walker\", \"Kenrich Williams\", \"Derrick Favors\", \"E'Twaun Moore\", \"Lonzo Ball\", \"JJ Redick\", \"Josh Hart\", \"Jrue Holiday\", \"Brandon Ingram\", \"Jahlil Okafor\", \"Jaxson Hayes\", \"Nicolo Melli\", \"Zion Williamson\", \"Frank Jackson\", \"Nickeil Alexander-Walker\", \"Kenrich Williams\", \"Derrick Favors\", \"E'Twaun Moore\", \"Lonzo Ball\", \"JJ Redick\", \"Josh Hart\", \"Jrue Holiday\", \"Brandon Ingram\", \"Jahlil Okafor\", \"Jaxson Hayes\", \"Nicolo Melli\", \"Zion Williamson\", \"Frank Jackson\", \"Nickeil Alexander-Walker\", \"Kenrich Williams\", \"Derrick Favors\", \"E'Twaun Moore\", \"Lonzo Ball\", \"JJ Redick\", \"Josh Hart\", \"Jrue Holiday\", \"Brandon Ingram\", \"Jahlil Okafor\", \"Jaxson Hayes\", \"Nicolo Melli\", \"Zion Williamson\", \"Frank Jackson\", \"Nickeil Alexander-Walker\", \"Kenrich Williams\", \"Derrick Favors\", \"E'Twaun Moore\", \"Lonzo Ball\", \"JJ Redick\", \"Josh Hart\", \"Jrue Holiday\", \"Brandon Ingram\", \"Jahlil Okafor\", \"Jaxson Hayes\", \"Nicolo Melli\", \"Zion Williamson\", \"Frank Jackson\", \"Nickeil Alexander-Walker\", \"Kenrich Williams\", \"Derrick Favors\", \"E'Twaun Moore\", \"Lonzo Ball\", \"JJ Redick\", \"Josh Hart\", \"Jrue Holiday\", \"Brandon Ingram\", \"Jahlil Okafor\", \"Jaxson Hayes\", \"Nicolo Melli\", \"Zion Williamson\", \"Frank Jackson\", \"Nickeil Alexander-Walker\", \"Kenrich Williams\", \"Derrick Favors\", \"E'Twaun Moore\", \"Lonzo Ball\", \"JJ Redick\", \"Josh Hart\", \"Jrue Holiday\", \"Brandon Ingram\", \"Jahlil Okafor\", \"Jaxson Hayes\", \"Nicolo Melli\", \"Zion Williamson\", \"Frank Jackson\", \"Nickeil Alexander-Walker\", \"Kenrich Williams\", \"Derrick Favors\", \"E'Twaun Moore\", \"Lonzo Ball\", \"JJ Redick\", \"Josh Hart\", \"Jrue Holiday\", \"Brandon Ingram\", \"Jahlil Okafor\", \"Jaxson Hayes\", \"Nicolo Melli\", \"Zion Williamson\", \"Frank Jackson\", \"Nickeil Alexander-Walker\", \"Kenrich Williams\", \"Derrick Favors\", \"E'Twaun Moore\", \"Lonzo Ball\", \"JJ Redick\", \"Josh Hart\", \"Jrue Holiday\", \"Brandon Ingram\", \"Jahlil Okafor\", \"Jaxson Hayes\", \"Nicolo Melli\", \"Zion Williamson\", \"Frank Jackson\", \"Nickeil Alexander-Walker\", \"Kenrich Williams\", \"Derrick Favors\", \"E'Twaun Moore\", \"Lonzo Ball\", \"JJ Redick\", \"Josh Hart\", \"Jrue Holiday\", \"Brandon Ingram\", \"Jahlil Okafor\", \"Jaxson Hayes\", \"Nicolo Melli\", \"Zion Williamson\", \"Frank Jackson\", \"Nickeil Alexander-Walker\", \"Kenrich Williams\", \"Derrick Favors\", \"E'Twaun Moore\", \"Lonzo Ball\", \"JJ Redick\", \"Josh Hart\", \"Jrue Holiday\", \"Brandon Ingram\", \"Jahlil Okafor\", \"Jaxson Hayes\", \"Nicolo Melli\", \"Zion Williamson\", \"Frank Jackson\", \"Nickeil Alexander-Walker\", \"Kenrich Williams\", \"Derrick Favors\", \"E'Twaun Moore\", \"Lonzo Ball\", \"JJ Redick\", \"Josh Hart\", \"Jrue Holiday\", \"Brandon Ingram\", \"Jahlil Okafor\", \"Jaxson Hayes\", \"Nicolo Melli\", \"Zion Williamson\", \"Frank Jackson\", \"Nickeil Alexander-Walker\", \"Kenrich Williams\", \"Derrick Favors\", \"E'Twaun Moore\", \"Lonzo Ball\", \"JJ Redick\", \"Josh Hart\", \"Jrue Holiday\", \"Brandon Ingram\", \"Jahlil Okafor\", \"Jaxson Hayes\", \"Nicolo Melli\", \"Zion Williamson\", \"Frank Jackson\", \"Nickeil Alexander-Walker\", \"Kenrich Williams\", \"Derrick Favors\", \"E'Twaun Moore\", \"Lonzo Ball\", \"JJ Redick\", \"Josh Hart\", \"Jrue Holiday\", \"Brandon Ingram\", \"Jahlil Okafor\", \"Jaxson Hayes\", \"Nicolo Melli\", \"Zion Williamson\", \"Frank Jackson\", \"Nickeil Alexander-Walker\", \"Kenrich Williams\", \"Derrick Favors\", \"E'Twaun Moore\", \"Lonzo Ball\", \"JJ Redick\", \"Josh Hart\", \"Jrue Holiday\", \"Brandon Ingram\", \"Jahlil Okafor\", \"Jaxson Hayes\", \"Nicolo Melli\", \"Zion Williamson\", \"Frank Jackson\", \"Nickeil Alexander-Walker\", \"Kenrich Williams\", \"Derrick Favors\", \"E'Twaun Moore\", \"Lonzo Ball\", \"JJ Redick\", \"Josh Hart\", \"Jrue Holiday\", \"Brandon Ingram\", \"Jahlil Okafor\", \"Jaxson Hayes\", \"Nicolo Melli\", \"Zion Williamson\", \"Frank Jackson\", \"Nickeil Alexander-Walker\", \"Kenrich Williams\", \"Derrick Favors\", \"E'Twaun Moore\", \"Lonzo Ball\", \"JJ Redick\", \"Josh Hart\", \"Jrue Holiday\", \"Brandon Ingram\", \"Jahlil Okafor\", \"Jaxson Hayes\", \"Nicolo Melli\", \"Zion Williamson\", \"Frank Jackson\", \"Nickeil Alexander-Walker\", \"Kenrich Williams\", \"Derrick Favors\", \"E'Twaun Moore\", \"Lonzo Ball\", \"JJ Redick\", \"Josh Hart\", \"Jrue Holiday\", \"Brandon Ingram\", \"Jahlil Okafor\", \"Jaxson Hayes\", \"Nicolo Melli\", \"Zion Williamson\", \"Frank Jackson\", \"Nickeil Alexander-Walker\", \"Kenrich Williams\", \"Derrick Favors\", \"E'Twaun Moore\", \"Lonzo Ball\", \"JJ Redick\", \"Josh Hart\", \"Jrue Holiday\", \"Brandon Ingram\", \"Jahlil Okafor\", \"Jaxson Hayes\", \"Nicolo Melli\", \"Zion Williamson\", \"Frank Jackson\", \"Nickeil Alexander-Walker\", \"Kenrich Williams\", \"Derrick Favors\", \"E'Twaun Moore\", \"Lonzo Ball\", \"JJ Redick\", \"Josh Hart\", \"Jrue Holiday\", \"Brandon Ingram\", \"Jahlil Okafor\", \"Jaxson Hayes\", \"Nicolo Melli\", \"Zion Williamson\", \"Frank Jackson\", \"Nickeil Alexander-Walker\", \"Kenrich Williams\", \"Derrick Favors\", \"E'Twaun Moore\", \"Lonzo Ball\", \"JJ Redick\", \"Josh Hart\", \"Jrue Holiday\", \"Brandon Ingram\", \"Jahlil Okafor\", \"Jaxson Hayes\", \"Nicolo Melli\", \"Zion Williamson\", \"Frank Jackson\", \"Nickeil Alexander-Walker\", \"Kenrich Williams\", \"Derrick Favors\", \"E'Twaun Moore\", \"Lonzo Ball\", \"JJ Redick\", \"Josh Hart\", \"Jrue Holiday\", \"Brandon Ingram\", \"Jahlil Okafor\", \"Jaxson Hayes\", \"Nicolo Melli\", \"Zion Williamson\", \"Frank Jackson\", \"Nickeil Alexander-Walker\", \"Kenrich Williams\", \"Derrick Favors\", \"E'Twaun Moore\", \"Lonzo Ball\", \"JJ Redick\", \"Josh Hart\", \"Jrue Holiday\", \"Brandon Ingram\", \"Jahlil Okafor\", \"Jaxson Hayes\", \"Nicolo Melli\", \"Zion Williamson\", \"Frank Jackson\", \"Nickeil Alexander-Walker\", \"Kenrich Williams\", \"Derrick Favors\", \"E'Twaun Moore\", \"Lonzo Ball\", \"JJ Redick\", \"Josh Hart\", \"Jrue Holiday\", \"Brandon Ingram\", \"Jahlil Okafor\", \"Jaxson Hayes\", \"Nicolo Melli\", \"Zion Williamson\", \"Frank Jackson\", \"Nickeil Alexander-Walker\", \"Kenrich Williams\", \"Derrick Favors\", \"E'Twaun Moore\", \"Lonzo Ball\", \"JJ Redick\", \"Josh Hart\", \"Jrue Holiday\", \"Brandon Ingram\", \"Jahlil Okafor\", \"Jaxson Hayes\", \"Nicolo Melli\", \"Zion Williamson\", \"Frank Jackson\", \"Nickeil Alexander-Walker\", \"Kenrich Williams\", \"Derrick Favors\", \"E'Twaun Moore\", \"Lonzo Ball\", \"JJ Redick\", \"Josh Hart\", \"Jrue Holiday\", \"Brandon Ingram\", \"Jahlil Okafor\", \"Jaxson Hayes\", \"Nicolo Melli\", \"Zion Williamson\", \"Frank Jackson\", \"Nickeil Alexander-Walker\", \"Kenrich Williams\", \"Derrick Favors\", \"E'Twaun Moore\", \"Lonzo Ball\", \"JJ Redick\", \"Josh Hart\", \"Jrue Holiday\", \"Brandon Ingram\", \"Jahlil Okafor\", \"Jaxson Hayes\", \"Nicolo Melli\", \"Zion Williamson\", \"Frank Jackson\", \"Nickeil Alexander-Walker\", \"Kenrich Williams\", \"Derrick Favors\", \"E'Twaun Moore\", \"Lonzo Ball\", \"JJ Redick\", \"Josh Hart\", \"Jrue Holiday\", \"Brandon Ingram\", \"Jahlil Okafor\", \"Jaxson Hayes\", \"Nicolo Melli\", \"Zion Williamson\", \"Frank Jackson\", \"Nickeil Alexander-Walker\", \"Kenrich Williams\", \"Derrick Favors\", \"E'Twaun Moore\", \"Lonzo Ball\", \"JJ Redick\", \"Josh Hart\", \"Jrue Holiday\", \"Brandon Ingram\", \"Jahlil Okafor\", \"Jaxson Hayes\", \"Nicolo Melli\", \"Zion Williamson\", \"Frank Jackson\", \"Nickeil Alexander-Walker\", \"Kenrich Williams\", \"Derrick Favors\", \"E'Twaun Moore\", \"Lonzo Ball\", \"JJ Redick\", \"Josh Hart\", \"Jrue Holiday\", \"Brandon Ingram\", \"Jahlil Okafor\", \"Jaxson Hayes\", \"Nicolo Melli\", \"Zion Williamson\", \"Frank Jackson\", \"Nickeil Alexander-Walker\", \"Kenrich Williams\", \"Derrick Favors\", \"E'Twaun Moore\", \"Lonzo Ball\", \"JJ Redick\", \"Josh Hart\", \"Jrue Holiday\", \"Brandon Ingram\", \"Jahlil Okafor\", \"Jaxson Hayes\", \"Nicolo Melli\", \"Zion Williamson\", \"Frank Jackson\", \"Nickeil Alexander-Walker\", \"Kenrich Williams\", \"Derrick Favors\", \"E'Twaun Moore\", \"Lonzo Ball\", \"JJ Redick\", \"Josh Hart\", \"Jrue Holiday\", \"Brandon Ingram\", \"Jahlil Okafor\", \"Jaxson Hayes\", \"Nicolo Melli\", \"Zion Williamson\", \"Frank Jackson\", \"Nickeil Alexander-Walker\", \"Kenrich Williams\", \"Derrick Favors\", \"E'Twaun Moore\", \"Lonzo Ball\", \"JJ Redick\", \"Josh Hart\", \"Jrue Holiday\", \"Brandon Ingram\", \"Jahlil Okafor\", \"Jaxson Hayes\", \"Nicolo Melli\", \"Zion Williamson\", \"Frank Jackson\", \"Nickeil Alexander-Walker\", \"Kenrich Williams\", \"Derrick Favors\", \"E'Twaun Moore\", \"Lonzo Ball\", \"JJ Redick\", \"Josh Hart\", \"Jrue Holiday\", \"Brandon Ingram\", \"Jahlil Okafor\", \"Jaxson Hayes\", \"Nicolo Melli\", \"Zion Williamson\", \"Frank Jackson\", \"Nickeil Alexander-Walker\", \"Kenrich Williams\", \"Derrick Favors\", \"E'Twaun Moore\", \"Lonzo Ball\", \"JJ Redick\", \"Josh Hart\", \"Jrue Holiday\", \"Brandon Ingram\", \"Jahlil Okafor\", \"Jaxson Hayes\", \"Nicolo Melli\", \"Zion Williamson\", \"Frank Jackson\", \"Nickeil Alexander-Walker\", \"Kenrich Williams\", \"Derrick Favors\", \"E'Twaun Moore\", \"Lonzo Ball\", \"JJ Redick\", \"Josh Hart\", \"Jrue Holiday\", \"Brandon Ingram\", \"Jahlil Okafor\", \"Jaxson Hayes\", \"Nicolo Melli\", \"Zion Williamson\", \"Frank Jackson\", \"Nickeil Alexander-Walker\", \"Kenrich Williams\", \"Derrick Favors\", \"E'Twaun Moore\", \"Lonzo Ball\", \"JJ Redick\", \"Josh Hart\", \"Jrue Holiday\", \"Brandon Ingram\", \"Jahlil Okafor\", \"Jaxson Hayes\", \"Nicolo Melli\", \"Zion Williamson\", \"Frank Jackson\", \"Nickeil Alexander-Walker\", \"Kenrich Williams\", \"Derrick Favors\", \"E'Twaun Moore\", \"Lonzo Ball\", \"JJ Redick\", \"Josh Hart\", \"Jrue Holiday\", \"Brandon Ingram\", \"Jahlil Okafor\", \"Jaxson Hayes\", \"Nicolo Melli\", \"Zion Williamson\", \"Frank Jackson\", \"Nickeil Alexander-Walker\", \"Kenrich Williams\", \"Derrick Favors\", \"E'Twaun Moore\", \"Lonzo Ball\", \"JJ Redick\", \"Josh Hart\", \"Jrue Holiday\", \"Brandon Ingram\", \"Jahlil Okafor\", \"Jaxson Hayes\", \"Nicolo Melli\", \"Zion Williamson\", \"Frank Jackson\", \"Nickeil Alexander-Walker\", \"Kenrich Williams\", \"Derrick Favors\", \"E'Twaun Moore\", \"Lonzo Ball\", \"JJ Redick\", \"Josh Hart\", \"Jrue Holiday\", \"Brandon Ingram\", \"Jahlil Okafor\", \"Jaxson Hayes\", \"Nicolo Melli\", \"Zion Williamson\", \"Frank Jackson\", \"Nickeil Alexander-Walker\", \"Kenrich Williams\", \"Derrick Favors\", \"E'Twaun Moore\", \"Lonzo Ball\", \"JJ Redick\", \"Josh Hart\", \"Jrue Holiday\", \"Brandon Ingram\", \"Jahlil Okafor\", \"Jaxson Hayes\", \"Nicolo Melli\", \"Zion Williamson\", \"Frank Jackson\", \"Nickeil Alexander-Walker\", \"Kenrich Williams\", \"Derrick Favors\", \"E'Twaun Moore\", \"Lonzo Ball\", \"JJ Redick\", \"Josh Hart\", \"Jrue Holiday\", \"Brandon Ingram\", \"Jahlil Okafor\", \"Jaxson Hayes\", \"Nicolo Melli\", \"Zion Williamson\", \"Frank Jackson\", \"Nickeil Alexander-Walker\", \"Kenrich Williams\", \"Derrick Favors\", \"E'Twaun Moore\", \"Lonzo Ball\", \"JJ Redick\", \"Josh Hart\", \"Jrue Holiday\", \"Brandon Ingram\"], \"yaxis\": \"y\"}],\n",
              "                        {\"coloraxis\": {\"colorbar\": {\"title\": {\"text\": \"pl_pps\"}}, \"colorscale\": [[0.0, \"#0d0887\"], [0.1111111111111111, \"#46039f\"], [0.2222222222222222, \"#7201a8\"], [0.3333333333333333, \"#9c179e\"], [0.4444444444444444, \"#bd3786\"], [0.5555555555555556, \"#d8576b\"], [0.6666666666666666, \"#ed7953\"], [0.7777777777777778, \"#fb9f3a\"], [0.8888888888888888, \"#fdca26\"], [1.0, \"#f0f921\"]]}, \"legend\": {\"itemsizing\": \"constant\", \"tracegroupgap\": 0}, \"margin\": {\"t\": 60}, \"template\": {\"data\": {\"bar\": [{\"error_x\": {\"color\": \"#2a3f5f\"}, \"error_y\": {\"color\": \"#2a3f5f\"}, \"marker\": {\"line\": {\"color\": \"#E5ECF6\", \"width\": 0.5}}, \"type\": \"bar\"}], \"barpolar\": [{\"marker\": {\"line\": {\"color\": \"#E5ECF6\", \"width\": 0.5}}, \"type\": \"barpolar\"}], \"carpet\": [{\"aaxis\": {\"endlinecolor\": \"#2a3f5f\", \"gridcolor\": \"white\", \"linecolor\": \"white\", \"minorgridcolor\": \"white\", \"startlinecolor\": \"#2a3f5f\"}, \"baxis\": {\"endlinecolor\": \"#2a3f5f\", \"gridcolor\": \"white\", \"linecolor\": \"white\", \"minorgridcolor\": \"white\", \"startlinecolor\": \"#2a3f5f\"}, \"type\": \"carpet\"}], \"choropleth\": [{\"colorbar\": {\"outlinewidth\": 0, \"ticks\": \"\"}, \"type\": \"choropleth\"}], \"contour\": [{\"colorbar\": {\"outlinewidth\": 0, \"ticks\": \"\"}, \"colorscale\": [[0.0, \"#0d0887\"], [0.1111111111111111, \"#46039f\"], [0.2222222222222222, \"#7201a8\"], [0.3333333333333333, \"#9c179e\"], [0.4444444444444444, \"#bd3786\"], [0.5555555555555556, \"#d8576b\"], [0.6666666666666666, \"#ed7953\"], [0.7777777777777778, \"#fb9f3a\"], [0.8888888888888888, \"#fdca26\"], [1.0, \"#f0f921\"]], \"type\": \"contour\"}], \"contourcarpet\": [{\"colorbar\": {\"outlinewidth\": 0, \"ticks\": \"\"}, \"type\": \"contourcarpet\"}], \"heatmap\": [{\"colorbar\": {\"outlinewidth\": 0, \"ticks\": \"\"}, \"colorscale\": [[0.0, \"#0d0887\"], [0.1111111111111111, \"#46039f\"], [0.2222222222222222, \"#7201a8\"], [0.3333333333333333, \"#9c179e\"], [0.4444444444444444, \"#bd3786\"], [0.5555555555555556, \"#d8576b\"], [0.6666666666666666, \"#ed7953\"], [0.7777777777777778, \"#fb9f3a\"], [0.8888888888888888, \"#fdca26\"], [1.0, \"#f0f921\"]], \"type\": \"heatmap\"}], \"heatmapgl\": [{\"colorbar\": {\"outlinewidth\": 0, \"ticks\": \"\"}, \"colorscale\": [[0.0, \"#0d0887\"], [0.1111111111111111, \"#46039f\"], [0.2222222222222222, \"#7201a8\"], [0.3333333333333333, \"#9c179e\"], [0.4444444444444444, \"#bd3786\"], [0.5555555555555556, \"#d8576b\"], [0.6666666666666666, \"#ed7953\"], [0.7777777777777778, \"#fb9f3a\"], [0.8888888888888888, \"#fdca26\"], [1.0, \"#f0f921\"]], \"type\": \"heatmapgl\"}], \"histogram\": [{\"marker\": {\"colorbar\": {\"outlinewidth\": 0, \"ticks\": \"\"}}, \"type\": \"histogram\"}], \"histogram2d\": [{\"colorbar\": {\"outlinewidth\": 0, \"ticks\": \"\"}, \"colorscale\": [[0.0, \"#0d0887\"], [0.1111111111111111, \"#46039f\"], [0.2222222222222222, \"#7201a8\"], [0.3333333333333333, \"#9c179e\"], [0.4444444444444444, \"#bd3786\"], [0.5555555555555556, \"#d8576b\"], [0.6666666666666666, \"#ed7953\"], [0.7777777777777778, \"#fb9f3a\"], [0.8888888888888888, \"#fdca26\"], [1.0, \"#f0f921\"]], \"type\": \"histogram2d\"}], \"histogram2dcontour\": [{\"colorbar\": {\"outlinewidth\": 0, \"ticks\": \"\"}, \"colorscale\": [[0.0, \"#0d0887\"], [0.1111111111111111, \"#46039f\"], [0.2222222222222222, \"#7201a8\"], [0.3333333333333333, \"#9c179e\"], [0.4444444444444444, \"#bd3786\"], [0.5555555555555556, \"#d8576b\"], [0.6666666666666666, \"#ed7953\"], [0.7777777777777778, \"#fb9f3a\"], [0.8888888888888888, \"#fdca26\"], [1.0, \"#f0f921\"]], \"type\": \"histogram2dcontour\"}], \"mesh3d\": [{\"colorbar\": {\"outlinewidth\": 0, \"ticks\": \"\"}, \"type\": \"mesh3d\"}], \"parcoords\": [{\"line\": {\"colorbar\": {\"outlinewidth\": 0, \"ticks\": \"\"}}, \"type\": \"parcoords\"}], \"pie\": [{\"automargin\": true, \"type\": \"pie\"}], \"scatter\": [{\"marker\": {\"colorbar\": {\"outlinewidth\": 0, \"ticks\": \"\"}}, \"type\": \"scatter\"}], \"scatter3d\": [{\"line\": {\"colorbar\": {\"outlinewidth\": 0, \"ticks\": \"\"}}, \"marker\": {\"colorbar\": {\"outlinewidth\": 0, \"ticks\": \"\"}}, \"type\": \"scatter3d\"}], \"scattercarpet\": [{\"marker\": {\"colorbar\": {\"outlinewidth\": 0, \"ticks\": \"\"}}, \"type\": \"scattercarpet\"}], \"scattergeo\": [{\"marker\": {\"colorbar\": {\"outlinewidth\": 0, \"ticks\": \"\"}}, \"type\": \"scattergeo\"}], \"scattergl\": [{\"marker\": {\"colorbar\": {\"outlinewidth\": 0, \"ticks\": \"\"}}, \"type\": \"scattergl\"}], \"scattermapbox\": [{\"marker\": {\"colorbar\": {\"outlinewidth\": 0, \"ticks\": \"\"}}, \"type\": \"scattermapbox\"}], \"scatterpolar\": [{\"marker\": {\"colorbar\": {\"outlinewidth\": 0, \"ticks\": \"\"}}, \"type\": \"scatterpolar\"}], \"scatterpolargl\": [{\"marker\": {\"colorbar\": {\"outlinewidth\": 0, \"ticks\": \"\"}}, \"type\": \"scatterpolargl\"}], \"scatterternary\": [{\"marker\": {\"colorbar\": {\"outlinewidth\": 0, \"ticks\": \"\"}}, \"type\": \"scatterternary\"}], \"surface\": [{\"colorbar\": {\"outlinewidth\": 0, \"ticks\": \"\"}, \"colorscale\": [[0.0, \"#0d0887\"], [0.1111111111111111, \"#46039f\"], [0.2222222222222222, \"#7201a8\"], [0.3333333333333333, \"#9c179e\"], [0.4444444444444444, \"#bd3786\"], [0.5555555555555556, \"#d8576b\"], [0.6666666666666666, \"#ed7953\"], [0.7777777777777778, \"#fb9f3a\"], [0.8888888888888888, \"#fdca26\"], [1.0, \"#f0f921\"]], \"type\": \"surface\"}], \"table\": [{\"cells\": {\"fill\": {\"color\": \"#EBF0F8\"}, \"line\": {\"color\": \"white\"}}, \"header\": {\"fill\": {\"color\": \"#C8D4E3\"}, \"line\": {\"color\": \"white\"}}, \"type\": \"table\"}]}, \"layout\": {\"annotationdefaults\": {\"arrowcolor\": \"#2a3f5f\", \"arrowhead\": 0, \"arrowwidth\": 1}, \"coloraxis\": {\"colorbar\": {\"outlinewidth\": 0, \"ticks\": \"\"}}, \"colorscale\": {\"diverging\": [[0, \"#8e0152\"], [0.1, \"#c51b7d\"], [0.2, \"#de77ae\"], [0.3, \"#f1b6da\"], [0.4, \"#fde0ef\"], [0.5, \"#f7f7f7\"], [0.6, \"#e6f5d0\"], [0.7, \"#b8e186\"], [0.8, \"#7fbc41\"], [0.9, \"#4d9221\"], [1, \"#276419\"]], \"sequential\": [[0.0, \"#0d0887\"], [0.1111111111111111, \"#46039f\"], [0.2222222222222222, \"#7201a8\"], [0.3333333333333333, \"#9c179e\"], [0.4444444444444444, \"#bd3786\"], [0.5555555555555556, \"#d8576b\"], [0.6666666666666666, \"#ed7953\"], [0.7777777777777778, \"#fb9f3a\"], [0.8888888888888888, \"#fdca26\"], [1.0, \"#f0f921\"]], \"sequentialminus\": [[0.0, \"#0d0887\"], [0.1111111111111111, \"#46039f\"], [0.2222222222222222, \"#7201a8\"], [0.3333333333333333, \"#9c179e\"], [0.4444444444444444, \"#bd3786\"], [0.5555555555555556, \"#d8576b\"], [0.6666666666666666, \"#ed7953\"], [0.7777777777777778, \"#fb9f3a\"], [0.8888888888888888, \"#fdca26\"], [1.0, \"#f0f921\"]]}, \"colorway\": [\"#636efa\", \"#EF553B\", \"#00cc96\", \"#ab63fa\", \"#FFA15A\", \"#19d3f3\", \"#FF6692\", \"#B6E880\", \"#FF97FF\", \"#FECB52\"], \"font\": {\"color\": \"#2a3f5f\"}, \"geo\": {\"bgcolor\": \"white\", \"lakecolor\": \"white\", \"landcolor\": \"#E5ECF6\", \"showlakes\": true, \"showland\": true, \"subunitcolor\": \"white\"}, \"hoverlabel\": {\"align\": \"left\"}, \"hovermode\": \"closest\", \"mapbox\": {\"style\": \"light\"}, \"paper_bgcolor\": \"white\", \"plot_bgcolor\": \"#E5ECF6\", \"polar\": {\"angularaxis\": {\"gridcolor\": \"white\", \"linecolor\": \"white\", \"ticks\": \"\"}, \"bgcolor\": \"#E5ECF6\", \"radialaxis\": {\"gridcolor\": \"white\", \"linecolor\": \"white\", \"ticks\": \"\"}}, \"scene\": {\"xaxis\": {\"backgroundcolor\": \"#E5ECF6\", \"gridcolor\": \"white\", \"gridwidth\": 2, \"linecolor\": \"white\", \"showbackground\": true, \"ticks\": \"\", \"zerolinecolor\": \"white\"}, \"yaxis\": {\"backgroundcolor\": \"#E5ECF6\", \"gridcolor\": \"white\", \"gridwidth\": 2, \"linecolor\": \"white\", \"showbackground\": true, \"ticks\": \"\", \"zerolinecolor\": \"white\"}, \"zaxis\": {\"backgroundcolor\": \"#E5ECF6\", \"gridcolor\": \"white\", \"gridwidth\": 2, \"linecolor\": \"white\", \"showbackground\": true, \"ticks\": \"\", \"zerolinecolor\": \"white\"}}, \"shapedefaults\": {\"line\": {\"color\": \"#2a3f5f\"}}, \"ternary\": {\"aaxis\": {\"gridcolor\": \"white\", \"linecolor\": \"white\", \"ticks\": \"\"}, \"baxis\": {\"gridcolor\": \"white\", \"linecolor\": \"white\", \"ticks\": \"\"}, \"bgcolor\": \"#E5ECF6\", \"caxis\": {\"gridcolor\": \"white\", \"linecolor\": \"white\", \"ticks\": \"\"}}, \"title\": {\"x\": 0.05}, \"xaxis\": {\"automargin\": true, \"gridcolor\": \"white\", \"linecolor\": \"white\", \"ticks\": \"\", \"title\": {\"standoff\": 15}, \"zerolinecolor\": \"white\", \"zerolinewidth\": 2}, \"yaxis\": {\"automargin\": true, \"gridcolor\": \"white\", \"linecolor\": \"white\", \"ticks\": \"\", \"title\": {\"standoff\": 15}, \"zerolinecolor\": \"white\", \"zerolinewidth\": 2}}}, \"xaxis\": {\"anchor\": \"y\", \"domain\": [0.0, 1.0], \"title\": {\"text\": \"min_mid\"}}, \"yaxis\": {\"anchor\": \"x\", \"domain\": [0.0, 1.0], \"title\": {\"text\": \"player\"}}},\n",
              "                        {\"responsive\": true}\n",
              "                    ).then(function(){\n",
              "                            \n",
              "var gd = document.getElementById('11133dae-2a62-46fe-b52d-0a1afc0eceb1');\n",
              "var x = new MutationObserver(function (mutations, observer) {{\n",
              "        var display = window.getComputedStyle(gd).display;\n",
              "        if (!display || display === 'none') {{\n",
              "            console.log([gd, 'removed!']);\n",
              "            Plotly.purge(gd);\n",
              "            observer.disconnect();\n",
              "        }}\n",
              "}});\n",
              "\n",
              "// Listen for the removal of the full notebook cells\n",
              "var notebookContainer = gd.closest('#notebook-container');\n",
              "if (notebookContainer) {{\n",
              "    x.observe(notebookContainer, {childList: true});\n",
              "}}\n",
              "\n",
              "// Listen for the clearing of the current output cell\n",
              "var outputEl = gd.closest('.output');\n",
              "if (outputEl) {{\n",
              "    x.observe(outputEl, {childList: true});\n",
              "}}\n",
              "\n",
              "                        })\n",
              "                };\n",
              "                \n",
              "            </script>\n",
              "        </div>\n",
              "</body>\n",
              "</html>"
            ]
          },
          "metadata": {
            "tags": []
          }
        }
      ]
    },
    {
      "cell_type": "code",
      "metadata": {
        "id": "UP0l0GXywt1z",
        "outputId": "4bb8f71d-245d-4f87-a305-eef98e42cd8e",
        "colab": {
          "base_uri": "https://localhost:8080/",
          "height": 671
        }
      },
      "source": [
        "import pandas as pd\n",
        "from jupyter_dash import JupyterDash\n",
        "import dash_core_components as dcc\n",
        "import dash_html_components as html\n",
        "from dash.dependencies import Input, Output\n",
        "\n",
        "all_teams_df = pd.read_csv('shot.csv')\n",
        "\n",
        "app = JupyterDash(__name__)\n",
        "server = app.server\n",
        "team_names = all_teams_df.group.unique()\n",
        "team_names.sort()\n",
        "app.layout = html.Div([\n",
        "    html.Div([dcc.Dropdown(id='group-select', options=[{'label': i, 'value': i} for i in team_names],\n",
        "                           value='TOR', style={'width': '140px'})]),\n",
        "    dcc.Graph('shot-dist-graph', config={'displayModeBar': False})])\n",
        "\n",
        "@app.callback(\n",
        "    Output('shot-dist-graph', 'figure'),\n",
        "    [Input('group-select', 'value')]\n",
        ")\n",
        "def update_graph(grpname):\n",
        "    import plotly.express as px\n",
        "    return px.scatter(all_teams_df[all_teams_df.group == grpname], x='min_mid', y='player', size='shots_freq', color='pl_pps')\n",
        "\n",
        "if __name__ == '__main__':\n",
        "    app.run_server(mode='inline')"
      ],
      "execution_count": 29,
      "outputs": [
        {
          "output_type": "display_data",
          "data": {
            "application/javascript": [
              "(async (port, path, width, height, cache, element) => {\n",
              "    if (!google.colab.kernel.accessAllowed && !cache) {\n",
              "      return;\n",
              "    }\n",
              "    element.appendChild(document.createTextNode(''));\n",
              "    const url = await google.colab.kernel.proxyPort(port, {cache});\n",
              "    const iframe = document.createElement('iframe');\n",
              "    iframe.src = url + path;\n",
              "    iframe.height = height;\n",
              "    iframe.width = width;\n",
              "    iframe.style.border = 0;\n",
              "    element.appendChild(iframe);\n",
              "  })(8050, \"/\", \"100%\", 650, false, window.element)"
            ],
            "text/plain": [
              "<IPython.core.display.Javascript object>"
            ]
          },
          "metadata": {
            "tags": []
          }
        }
      ]
    },
    {
      "cell_type": "code",
      "metadata": {
        "id": "TZ5G2LQfyCVU"
      },
      "source": [
        ""
      ],
      "execution_count": null,
      "outputs": []
    }
  ]
}