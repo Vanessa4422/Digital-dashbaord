{
  "nbformat": 4,
  "nbformat_minor": 0,
  "metadata": {
    "colab": {
      "name": "Coviddash.ipynb",
      "provenance": [],
      "collapsed_sections": [],
      "authorship_tag": "ABX9TyPtYoYzQIbdqgJ5HvH8Td6w",
      "include_colab_link": true
    },
    "kernelspec": {
      "name": "python3",
      "display_name": "Python 3"
    }
  },
  "cells": [
    {
      "cell_type": "markdown",
      "metadata": {
        "id": "view-in-github",
        "colab_type": "text"
      },
      "source": [
        "<a href=\"https://colab.research.google.com/github/Vanessa4422/Digital-dashbaord/blob/main/Coviddash.ipynb\" target=\"_parent\"><img src=\"https://colab.research.google.com/assets/colab-badge.svg\" alt=\"Open In Colab\"/></a>"
      ]
    },
    {
      "cell_type": "code",
      "metadata": {
        "id": "wTGBQA0QQ9Sh",
        "colab": {
          "base_uri": "https://localhost:8080/"
        },
        "outputId": "68eb4386-6605-4e4d-db34-d7ecdce6add9"
      },
      "source": [
        "!pip install -q jupyter-dash==0.3.0rc1 dash-bootstrap-components transformers"
      ],
      "execution_count": 2,
      "outputs": [
        {
          "output_type": "stream",
          "text": [
            "\u001b[K     |████████████████████████████████| 51kB 5.2MB/s \n",
            "\u001b[K     |████████████████████████████████| 194kB 14.9MB/s \n",
            "\u001b[K     |████████████████████████████████| 1.3MB 21.6MB/s \n",
            "\u001b[K     |████████████████████████████████| 81kB 9.4MB/s \n",
            "\u001b[K     |████████████████████████████████| 1.1MB 49.6MB/s \n",
            "\u001b[K     |████████████████████████████████| 2.9MB 49.5MB/s \n",
            "\u001b[K     |████████████████████████████████| 890kB 52.1MB/s \n",
            "\u001b[K     |████████████████████████████████| 1.0MB 47.3MB/s \n",
            "\u001b[K     |████████████████████████████████| 3.5MB 46.8MB/s \n",
            "\u001b[K     |████████████████████████████████| 194kB 50.4MB/s \n",
            "\u001b[K     |████████████████████████████████| 1.8MB 18.6MB/s \n",
            "\u001b[K     |████████████████████████████████| 358kB 47.0MB/s \n",
            "\u001b[?25h  Building wheel for dash (setup.py) ... \u001b[?25l\u001b[?25hdone\n",
            "  Building wheel for sacremoses (setup.py) ... \u001b[?25l\u001b[?25hdone\n",
            "  Building wheel for dash-renderer (setup.py) ... \u001b[?25l\u001b[?25hdone\n",
            "  Building wheel for dash-core-components (setup.py) ... \u001b[?25l\u001b[?25hdone\n",
            "  Building wheel for dash-html-components (setup.py) ... \u001b[?25l\u001b[?25hdone\n",
            "  Building wheel for dash-table (setup.py) ... \u001b[?25l\u001b[?25hdone\n"
          ],
          "name": "stdout"
        }
      ]
    },
    {
      "cell_type": "code",
      "metadata": {
        "id": "3bxK6rUIwRrA",
        "colab": {
          "base_uri": "https://localhost:8080/",
          "height": 671
        },
        "outputId": "b2d81a01-cea5-4908-a67e-08ab4ab74137"
      },
      "source": [
        "from jupyter_dash import JupyterDash\n",
        "import dash_bootstrap_components as dbc\n",
        "import dash_core_components as dcc\n",
        "import dash_html_components as html\n",
        "from dash.dependencies import Input, Output\n",
        "\n",
        "app = JupyterDash(__name__, external_stylesheets=[dbc.themes.BOOTSTRAP])\n",
        "\n",
        "\n",
        "# the style arguments for the sidebar. We use position:fixed and a fixed width\n",
        "SIDEBAR_STYLE = {\n",
        "    \"position\": \"fixed\",\n",
        "    \"top\": 0,\n",
        "    \"left\": 0,\n",
        "    \"bottom\": 0,\n",
        "    \"width\": \"16rem\",\n",
        "    \"padding\": \"2rem 1rem\",\n",
        "    \"background-color\": \"#2b2b2b\",\n",
        "\n",
        "}\n",
        "\n",
        "# the styles arguments for the main content\n",
        "CONTENT_STYLE = {\n",
        "    \"background\": '#1f1f1f',\n",
        "    \"margin-left\": \"18rem\",\n",
        "    \"margin-right\": \"8rem\",\n",
        "    \"padding\": \"2rem 1rem\",\n",
        "    \"textAlign\": \"center\",\n",
        "    \"color\":\"#999\"\n",
        "}\n",
        "\n",
        "# Jumbotron\n",
        "J_STYLE = {\n",
        "    \"background\": '#1f1f1f',\n",
        "    'textAlign': 'center', \n",
        "    'color': '#999',\n",
        "}\n",
        "\n",
        "sidebar = html.Div(\n",
        "    [\n",
        "        html.H2(\"FCDO Covid-19 Dashboard\", className=\"display-5\", style={'color': '#999'}),\n",
        "        html.Hr(),\n",
        "        dbc.Nav(\n",
        "            [\n",
        "                dbc.NavLink(\"Internal Reporting\", href=\"/page-1\", id=\"page-1-link\", style={'color': '#999'}),      \n",
        "                  html.Br(),\n",
        "                dbc.NavLink(\"Open source\", href=\"/page-2\", id=\"page-2-link\", style={'color': '#999'}),\n",
        "                  html.Br(),\n",
        "                dbc.NavLink(\"Media reporting\", href=\"/page-3\", id=\"page-3-link\", style={'color': '#999'}),\n",
        "                  html.Br(),\n",
        "                dbc.NavLink(\"UK coverage\", href=\"/page-4\", id=\"page-4-link\", style={'color': '#999'}),\n",
        "            ], \n",
        "            vertical=True, pills=False,\n",
        "        )\n",
        "    ],\n",
        "    style=SIDEBAR_STYLE,\n",
        ")\n",
        "\n",
        "content = html.Div(id=\"page-content\", style=CONTENT_STYLE)\n",
        "\n",
        "app.layout = html.Div([dcc.Location(id=\"url\"), sidebar, content])\n",
        "\n",
        "\n",
        "# this callback uses the current pathname to set the active state of the\n",
        "# corresponding nav link to true, allowing users to tell see page they are on\n",
        "@app.callback(\n",
        "    [Output(f\"page-{i}-link\", \"active\") for i in range(1, 4)],\n",
        "    [Input(\"url\", \"pathname\")],\n",
        ")\n",
        "def toggle_active_links(pathname):\n",
        "    if pathname == \"/\":\n",
        "        # Treat page 1 as the homepage / index\n",
        "        return True, False, False\n",
        "    return [pathname == f\"/page-{i}\" for i in range(1, 4)]\n",
        "\n",
        "\n",
        "@app.callback(Output(\"page-content\", \"children\"), [Input(\"url\", \"pathname\")])\n",
        "def render_page_content(pathname):\n",
        "    if pathname in [\"/\", \"/page-1\"]:\n",
        "        return html.H1(\"Internal Reporting\"), html.P('Visualising FCDO Covid-19 Sitreps using an interactive world map')\n",
        "    elif pathname == \"/page-2\":\n",
        "        return html.H1(\"Reporting in Open source\"), html.P('Using open source APIs to collate international updates on Covid-19')\n",
        "    elif pathname == \"/page-3\":\n",
        "        return html.H1(\"Media Reporting\"), html.P('Media updates on Covid-19, including trending topics')\n",
        "    elif pathname == \"/page-4\":\n",
        "        return html.H1(\"UK Covid-19 summary\"), html.P('Data and insights on the UK domestic picture')\n",
        "\n",
        "    # Jumbotron\n",
        "    return dbc.Jumbotron(\n",
        "        [\n",
        "            html.H1(\"FCDO Covid-19 Dashboard\", className=\"display-4\", style=J_STYLE),\n",
        "            html.Hr(),\n",
        "            html.P(f\"Prototype FCDO dashboard using Plotly and Dash\", style=J_STYLE),\n",
        "        ], style={'background':'#1f1f1f'}\n",
        "    )\n",
        "\n",
        "if __name__ == '__main__':\n",
        "  app.run_server(mode='inline')\n",
        " "
      ],
      "execution_count": 3,
      "outputs": [
        {
          "output_type": "display_data",
          "data": {
            "application/javascript": [
              "(async (port, path, width, height, cache, element) => {\n",
              "    if (!google.colab.kernel.accessAllowed && !cache) {\n",
              "      return;\n",
              "    }\n",
              "    element.appendChild(document.createTextNode(''));\n",
              "    const url = await google.colab.kernel.proxyPort(port, {cache});\n",
              "    const iframe = document.createElement('iframe');\n",
              "    iframe.src = url + path;\n",
              "    iframe.height = height;\n",
              "    iframe.width = width;\n",
              "    iframe.style.border = 0;\n",
              "    element.appendChild(iframe);\n",
              "  })(8050, \"/\", \"100%\", 650, false, window.element)"
            ],
            "text/plain": [
              "<IPython.core.display.Javascript object>"
            ]
          },
          "metadata": {
            "tags": []
          }
        }
      ]
    },
    {
      "cell_type": "code",
      "metadata": {
        "id": "nD7Xo2yXo475"
      },
      "source": [
        ""
      ],
      "execution_count": null,
      "outputs": []
    }
  ]
}